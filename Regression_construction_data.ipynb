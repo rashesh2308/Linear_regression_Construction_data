{
 "cells": [
  {
   "cell_type": "markdown",
   "metadata": {},
   "source": [
    "#### Mohanaditya Karampudi (U69444699)"
   ]
  },
  {
   "cell_type": "code",
   "execution_count": 1,
   "metadata": {
    "scrolled": true
   },
   "outputs": [
    {
     "data": {
      "text/html": [
       "\n",
       "    <div class=\"bk-root\">\n",
       "        <a href=\"https://bokeh.pydata.org\" target=\"_blank\" class=\"bk-logo bk-logo-small bk-logo-notebook\"></a>\n",
       "        <span id=\"1001\">Loading BokehJS ...</span>\n",
       "    </div>"
      ]
     },
     "metadata": {},
     "output_type": "display_data"
    },
    {
     "data": {
      "application/javascript": [
       "\n",
       "(function(root) {\n",
       "  function now() {\n",
       "    return new Date();\n",
       "  }\n",
       "\n",
       "  var force = true;\n",
       "\n",
       "  if (typeof root._bokeh_onload_callbacks === \"undefined\" || force === true) {\n",
       "    root._bokeh_onload_callbacks = [];\n",
       "    root._bokeh_is_loading = undefined;\n",
       "  }\n",
       "\n",
       "  var JS_MIME_TYPE = 'application/javascript';\n",
       "  var HTML_MIME_TYPE = 'text/html';\n",
       "  var EXEC_MIME_TYPE = 'application/vnd.bokehjs_exec.v0+json';\n",
       "  var CLASS_NAME = 'output_bokeh rendered_html';\n",
       "\n",
       "  /**\n",
       "   * Render data to the DOM node\n",
       "   */\n",
       "  function render(props, node) {\n",
       "    var script = document.createElement(\"script\");\n",
       "    node.appendChild(script);\n",
       "  }\n",
       "\n",
       "  /**\n",
       "   * Handle when an output is cleared or removed\n",
       "   */\n",
       "  function handleClearOutput(event, handle) {\n",
       "    var cell = handle.cell;\n",
       "\n",
       "    var id = cell.output_area._bokeh_element_id;\n",
       "    var server_id = cell.output_area._bokeh_server_id;\n",
       "    // Clean up Bokeh references\n",
       "    if (id != null && id in Bokeh.index) {\n",
       "      Bokeh.index[id].model.document.clear();\n",
       "      delete Bokeh.index[id];\n",
       "    }\n",
       "\n",
       "    if (server_id !== undefined) {\n",
       "      // Clean up Bokeh references\n",
       "      var cmd = \"from bokeh.io.state import curstate; print(curstate().uuid_to_server['\" + server_id + \"'].get_sessions()[0].document.roots[0]._id)\";\n",
       "      cell.notebook.kernel.execute(cmd, {\n",
       "        iopub: {\n",
       "          output: function(msg) {\n",
       "            var id = msg.content.text.trim();\n",
       "            if (id in Bokeh.index) {\n",
       "              Bokeh.index[id].model.document.clear();\n",
       "              delete Bokeh.index[id];\n",
       "            }\n",
       "          }\n",
       "        }\n",
       "      });\n",
       "      // Destroy server and session\n",
       "      var cmd = \"import bokeh.io.notebook as ion; ion.destroy_server('\" + server_id + \"')\";\n",
       "      cell.notebook.kernel.execute(cmd);\n",
       "    }\n",
       "  }\n",
       "\n",
       "  /**\n",
       "   * Handle when a new output is added\n",
       "   */\n",
       "  function handleAddOutput(event, handle) {\n",
       "    var output_area = handle.output_area;\n",
       "    var output = handle.output;\n",
       "\n",
       "    // limit handleAddOutput to display_data with EXEC_MIME_TYPE content only\n",
       "    if ((output.output_type != \"display_data\") || (!output.data.hasOwnProperty(EXEC_MIME_TYPE))) {\n",
       "      return\n",
       "    }\n",
       "\n",
       "    var toinsert = output_area.element.find(\".\" + CLASS_NAME.split(' ')[0]);\n",
       "\n",
       "    if (output.metadata[EXEC_MIME_TYPE][\"id\"] !== undefined) {\n",
       "      toinsert[toinsert.length - 1].firstChild.textContent = output.data[JS_MIME_TYPE];\n",
       "      // store reference to embed id on output_area\n",
       "      output_area._bokeh_element_id = output.metadata[EXEC_MIME_TYPE][\"id\"];\n",
       "    }\n",
       "    if (output.metadata[EXEC_MIME_TYPE][\"server_id\"] !== undefined) {\n",
       "      var bk_div = document.createElement(\"div\");\n",
       "      bk_div.innerHTML = output.data[HTML_MIME_TYPE];\n",
       "      var script_attrs = bk_div.children[0].attributes;\n",
       "      for (var i = 0; i < script_attrs.length; i++) {\n",
       "        toinsert[toinsert.length - 1].firstChild.setAttribute(script_attrs[i].name, script_attrs[i].value);\n",
       "      }\n",
       "      // store reference to server id on output_area\n",
       "      output_area._bokeh_server_id = output.metadata[EXEC_MIME_TYPE][\"server_id\"];\n",
       "    }\n",
       "  }\n",
       "\n",
       "  function register_renderer(events, OutputArea) {\n",
       "\n",
       "    function append_mime(data, metadata, element) {\n",
       "      // create a DOM node to render to\n",
       "      var toinsert = this.create_output_subarea(\n",
       "        metadata,\n",
       "        CLASS_NAME,\n",
       "        EXEC_MIME_TYPE\n",
       "      );\n",
       "      this.keyboard_manager.register_events(toinsert);\n",
       "      // Render to node\n",
       "      var props = {data: data, metadata: metadata[EXEC_MIME_TYPE]};\n",
       "      render(props, toinsert[toinsert.length - 1]);\n",
       "      element.append(toinsert);\n",
       "      return toinsert\n",
       "    }\n",
       "\n",
       "    /* Handle when an output is cleared or removed */\n",
       "    events.on('clear_output.CodeCell', handleClearOutput);\n",
       "    events.on('delete.Cell', handleClearOutput);\n",
       "\n",
       "    /* Handle when a new output is added */\n",
       "    events.on('output_added.OutputArea', handleAddOutput);\n",
       "\n",
       "    /**\n",
       "     * Register the mime type and append_mime function with output_area\n",
       "     */\n",
       "    OutputArea.prototype.register_mime_type(EXEC_MIME_TYPE, append_mime, {\n",
       "      /* Is output safe? */\n",
       "      safe: true,\n",
       "      /* Index of renderer in `output_area.display_order` */\n",
       "      index: 0\n",
       "    });\n",
       "  }\n",
       "\n",
       "  // register the mime type if in Jupyter Notebook environment and previously unregistered\n",
       "  if (root.Jupyter !== undefined) {\n",
       "    var events = require('base/js/events');\n",
       "    var OutputArea = require('notebook/js/outputarea').OutputArea;\n",
       "\n",
       "    if (OutputArea.prototype.mime_types().indexOf(EXEC_MIME_TYPE) == -1) {\n",
       "      register_renderer(events, OutputArea);\n",
       "    }\n",
       "  }\n",
       "\n",
       "  \n",
       "  if (typeof (root._bokeh_timeout) === \"undefined\" || force === true) {\n",
       "    root._bokeh_timeout = Date.now() + 5000;\n",
       "    root._bokeh_failed_load = false;\n",
       "  }\n",
       "\n",
       "  var NB_LOAD_WARNING = {'data': {'text/html':\n",
       "     \"<div style='background-color: #fdd'>\\n\"+\n",
       "     \"<p>\\n\"+\n",
       "     \"BokehJS does not appear to have successfully loaded. If loading BokehJS from CDN, this \\n\"+\n",
       "     \"may be due to a slow or bad network connection. Possible fixes:\\n\"+\n",
       "     \"</p>\\n\"+\n",
       "     \"<ul>\\n\"+\n",
       "     \"<li>re-rerun `output_notebook()` to attempt to load from CDN again, or</li>\\n\"+\n",
       "     \"<li>use INLINE resources instead, as so:</li>\\n\"+\n",
       "     \"</ul>\\n\"+\n",
       "     \"<code>\\n\"+\n",
       "     \"from bokeh.resources import INLINE\\n\"+\n",
       "     \"output_notebook(resources=INLINE)\\n\"+\n",
       "     \"</code>\\n\"+\n",
       "     \"</div>\"}};\n",
       "\n",
       "  function display_loaded() {\n",
       "    var el = document.getElementById(\"1001\");\n",
       "    if (el != null) {\n",
       "      el.textContent = \"BokehJS is loading...\";\n",
       "    }\n",
       "    if (root.Bokeh !== undefined) {\n",
       "      if (el != null) {\n",
       "        el.textContent = \"BokehJS \" + root.Bokeh.version + \" successfully loaded.\";\n",
       "      }\n",
       "    } else if (Date.now() < root._bokeh_timeout) {\n",
       "      setTimeout(display_loaded, 100)\n",
       "    }\n",
       "  }\n",
       "\n",
       "\n",
       "  function run_callbacks() {\n",
       "    try {\n",
       "      root._bokeh_onload_callbacks.forEach(function(callback) {\n",
       "        if (callback != null)\n",
       "          callback();\n",
       "      });\n",
       "    } finally {\n",
       "      delete root._bokeh_onload_callbacks\n",
       "    }\n",
       "    console.debug(\"Bokeh: all callbacks have finished\");\n",
       "  }\n",
       "\n",
       "  function load_libs(css_urls, js_urls, callback) {\n",
       "    if (css_urls == null) css_urls = [];\n",
       "    if (js_urls == null) js_urls = [];\n",
       "\n",
       "    root._bokeh_onload_callbacks.push(callback);\n",
       "    if (root._bokeh_is_loading > 0) {\n",
       "      console.debug(\"Bokeh: BokehJS is being loaded, scheduling callback at\", now());\n",
       "      return null;\n",
       "    }\n",
       "    if (js_urls == null || js_urls.length === 0) {\n",
       "      run_callbacks();\n",
       "      return null;\n",
       "    }\n",
       "    console.debug(\"Bokeh: BokehJS not loaded, scheduling load and callback at\", now());\n",
       "    root._bokeh_is_loading = css_urls.length + js_urls.length;\n",
       "\n",
       "    function on_load() {\n",
       "      root._bokeh_is_loading--;\n",
       "      if (root._bokeh_is_loading === 0) {\n",
       "        console.debug(\"Bokeh: all BokehJS libraries/stylesheets loaded\");\n",
       "        run_callbacks()\n",
       "      }\n",
       "    }\n",
       "\n",
       "    function on_error() {\n",
       "      console.error(\"failed to load \" + url);\n",
       "    }\n",
       "\n",
       "    for (var i = 0; i < css_urls.length; i++) {\n",
       "      var url = css_urls[i];\n",
       "      const element = document.createElement(\"link\");\n",
       "      element.onload = on_load;\n",
       "      element.onerror = on_error;\n",
       "      element.rel = \"stylesheet\";\n",
       "      element.type = \"text/css\";\n",
       "      element.href = url;\n",
       "      console.debug(\"Bokeh: injecting link tag for BokehJS stylesheet: \", url);\n",
       "      document.body.appendChild(element);\n",
       "    }\n",
       "\n",
       "    for (var i = 0; i < js_urls.length; i++) {\n",
       "      var url = js_urls[i];\n",
       "      var element = document.createElement('script');\n",
       "      element.onload = on_load;\n",
       "      element.onerror = on_error;\n",
       "      element.async = false;\n",
       "      element.src = url;\n",
       "      console.debug(\"Bokeh: injecting script tag for BokehJS library: \", url);\n",
       "      document.head.appendChild(element);\n",
       "    }\n",
       "  };var element = document.getElementById(\"1001\");\n",
       "  if (element == null) {\n",
       "    console.error(\"Bokeh: ERROR: autoload.js configured with elementid '1001' but no matching script tag was found. \")\n",
       "    return false;\n",
       "  }\n",
       "\n",
       "  function inject_raw_css(css) {\n",
       "    const element = document.createElement(\"style\");\n",
       "    element.appendChild(document.createTextNode(css));\n",
       "    document.body.appendChild(element);\n",
       "  }\n",
       "\n",
       "  var js_urls = [\"https://cdn.pydata.org/bokeh/release/bokeh-1.3.4.min.js\", \"https://cdn.pydata.org/bokeh/release/bokeh-widgets-1.3.4.min.js\", \"https://cdn.pydata.org/bokeh/release/bokeh-tables-1.3.4.min.js\", \"https://cdn.pydata.org/bokeh/release/bokeh-gl-1.3.4.min.js\"];\n",
       "  var css_urls = [];\n",
       "\n",
       "  var inline_js = [\n",
       "    function(Bokeh) {\n",
       "      Bokeh.set_log_level(\"info\");\n",
       "    },\n",
       "    \n",
       "    function(Bokeh) {\n",
       "      \n",
       "    },\n",
       "    function(Bokeh) {} // ensure no trailing comma for IE\n",
       "  ];\n",
       "\n",
       "  function run_inline_js() {\n",
       "    \n",
       "    if ((root.Bokeh !== undefined) || (force === true)) {\n",
       "      for (var i = 0; i < inline_js.length; i++) {\n",
       "        inline_js[i].call(root, root.Bokeh);\n",
       "      }if (force === true) {\n",
       "        display_loaded();\n",
       "      }} else if (Date.now() < root._bokeh_timeout) {\n",
       "      setTimeout(run_inline_js, 100);\n",
       "    } else if (!root._bokeh_failed_load) {\n",
       "      console.log(\"Bokeh: BokehJS failed to load within specified timeout.\");\n",
       "      root._bokeh_failed_load = true;\n",
       "    } else if (force !== true) {\n",
       "      var cell = $(document.getElementById(\"1001\")).parents('.cell').data().cell;\n",
       "      cell.output_area.append_execute_result(NB_LOAD_WARNING)\n",
       "    }\n",
       "\n",
       "  }\n",
       "\n",
       "  if (root._bokeh_is_loading === 0) {\n",
       "    console.debug(\"Bokeh: BokehJS loaded, going straight to plotting\");\n",
       "    run_inline_js();\n",
       "  } else {\n",
       "    load_libs(css_urls, js_urls, function() {\n",
       "      console.debug(\"Bokeh: BokehJS plotting callback run at\", now());\n",
       "      run_inline_js();\n",
       "    });\n",
       "  }\n",
       "}(window));"
      ],
      "application/vnd.bokehjs_load.v0+json": "\n(function(root) {\n  function now() {\n    return new Date();\n  }\n\n  var force = true;\n\n  if (typeof root._bokeh_onload_callbacks === \"undefined\" || force === true) {\n    root._bokeh_onload_callbacks = [];\n    root._bokeh_is_loading = undefined;\n  }\n\n  \n\n  \n  if (typeof (root._bokeh_timeout) === \"undefined\" || force === true) {\n    root._bokeh_timeout = Date.now() + 5000;\n    root._bokeh_failed_load = false;\n  }\n\n  var NB_LOAD_WARNING = {'data': {'text/html':\n     \"<div style='background-color: #fdd'>\\n\"+\n     \"<p>\\n\"+\n     \"BokehJS does not appear to have successfully loaded. If loading BokehJS from CDN, this \\n\"+\n     \"may be due to a slow or bad network connection. Possible fixes:\\n\"+\n     \"</p>\\n\"+\n     \"<ul>\\n\"+\n     \"<li>re-rerun `output_notebook()` to attempt to load from CDN again, or</li>\\n\"+\n     \"<li>use INLINE resources instead, as so:</li>\\n\"+\n     \"</ul>\\n\"+\n     \"<code>\\n\"+\n     \"from bokeh.resources import INLINE\\n\"+\n     \"output_notebook(resources=INLINE)\\n\"+\n     \"</code>\\n\"+\n     \"</div>\"}};\n\n  function display_loaded() {\n    var el = document.getElementById(\"1001\");\n    if (el != null) {\n      el.textContent = \"BokehJS is loading...\";\n    }\n    if (root.Bokeh !== undefined) {\n      if (el != null) {\n        el.textContent = \"BokehJS \" + root.Bokeh.version + \" successfully loaded.\";\n      }\n    } else if (Date.now() < root._bokeh_timeout) {\n      setTimeout(display_loaded, 100)\n    }\n  }\n\n\n  function run_callbacks() {\n    try {\n      root._bokeh_onload_callbacks.forEach(function(callback) {\n        if (callback != null)\n          callback();\n      });\n    } finally {\n      delete root._bokeh_onload_callbacks\n    }\n    console.debug(\"Bokeh: all callbacks have finished\");\n  }\n\n  function load_libs(css_urls, js_urls, callback) {\n    if (css_urls == null) css_urls = [];\n    if (js_urls == null) js_urls = [];\n\n    root._bokeh_onload_callbacks.push(callback);\n    if (root._bokeh_is_loading > 0) {\n      console.debug(\"Bokeh: BokehJS is being loaded, scheduling callback at\", now());\n      return null;\n    }\n    if (js_urls == null || js_urls.length === 0) {\n      run_callbacks();\n      return null;\n    }\n    console.debug(\"Bokeh: BokehJS not loaded, scheduling load and callback at\", now());\n    root._bokeh_is_loading = css_urls.length + js_urls.length;\n\n    function on_load() {\n      root._bokeh_is_loading--;\n      if (root._bokeh_is_loading === 0) {\n        console.debug(\"Bokeh: all BokehJS libraries/stylesheets loaded\");\n        run_callbacks()\n      }\n    }\n\n    function on_error() {\n      console.error(\"failed to load \" + url);\n    }\n\n    for (var i = 0; i < css_urls.length; i++) {\n      var url = css_urls[i];\n      const element = document.createElement(\"link\");\n      element.onload = on_load;\n      element.onerror = on_error;\n      element.rel = \"stylesheet\";\n      element.type = \"text/css\";\n      element.href = url;\n      console.debug(\"Bokeh: injecting link tag for BokehJS stylesheet: \", url);\n      document.body.appendChild(element);\n    }\n\n    for (var i = 0; i < js_urls.length; i++) {\n      var url = js_urls[i];\n      var element = document.createElement('script');\n      element.onload = on_load;\n      element.onerror = on_error;\n      element.async = false;\n      element.src = url;\n      console.debug(\"Bokeh: injecting script tag for BokehJS library: \", url);\n      document.head.appendChild(element);\n    }\n  };var element = document.getElementById(\"1001\");\n  if (element == null) {\n    console.error(\"Bokeh: ERROR: autoload.js configured with elementid '1001' but no matching script tag was found. \")\n    return false;\n  }\n\n  function inject_raw_css(css) {\n    const element = document.createElement(\"style\");\n    element.appendChild(document.createTextNode(css));\n    document.body.appendChild(element);\n  }\n\n  var js_urls = [\"https://cdn.pydata.org/bokeh/release/bokeh-1.3.4.min.js\", \"https://cdn.pydata.org/bokeh/release/bokeh-widgets-1.3.4.min.js\", \"https://cdn.pydata.org/bokeh/release/bokeh-tables-1.3.4.min.js\", \"https://cdn.pydata.org/bokeh/release/bokeh-gl-1.3.4.min.js\"];\n  var css_urls = [];\n\n  var inline_js = [\n    function(Bokeh) {\n      Bokeh.set_log_level(\"info\");\n    },\n    \n    function(Bokeh) {\n      \n    },\n    function(Bokeh) {} // ensure no trailing comma for IE\n  ];\n\n  function run_inline_js() {\n    \n    if ((root.Bokeh !== undefined) || (force === true)) {\n      for (var i = 0; i < inline_js.length; i++) {\n        inline_js[i].call(root, root.Bokeh);\n      }if (force === true) {\n        display_loaded();\n      }} else if (Date.now() < root._bokeh_timeout) {\n      setTimeout(run_inline_js, 100);\n    } else if (!root._bokeh_failed_load) {\n      console.log(\"Bokeh: BokehJS failed to load within specified timeout.\");\n      root._bokeh_failed_load = true;\n    } else if (force !== true) {\n      var cell = $(document.getElementById(\"1001\")).parents('.cell').data().cell;\n      cell.output_area.append_execute_result(NB_LOAD_WARNING)\n    }\n\n  }\n\n  if (root._bokeh_is_loading === 0) {\n    console.debug(\"Bokeh: BokehJS loaded, going straight to plotting\");\n    run_inline_js();\n  } else {\n    load_libs(css_urls, js_urls, function() {\n      console.debug(\"Bokeh: BokehJS plotting callback run at\", now());\n      run_inline_js();\n    });\n  }\n}(window));"
     },
     "metadata": {},
     "output_type": "display_data"
    }
   ],
   "source": [
    "#Importing required libraries\n",
    "from sklearn.metrics import mean_squared_error, accuracy_score\n",
    "from sklearn.model_selection import train_test_split\n",
    "from statsmodels.graphics.gofplots import ProbPlot\n",
    "from sklearn import metrics\n",
    "from sklearn import ensemble\n",
    "import matplotlib.pyplot as plt\n",
    "import statsmodels.api as sm\n",
    "import scipy.stats as stats\n",
    "import seaborn as sns\n",
    "import pandas as pd\n",
    "import numpy as np\n",
    "import warnings\n",
    "import calendar\n",
    "import re\n",
    "plt.style.use('seaborn-whitegrid')\n",
    "warnings.filterwarnings(\"ignore\")\n",
    "%matplotlib inline\n",
    "\n",
    "#Calling bokeh packages for plotting\n",
    "from bokeh.palettes import Spectral6\n",
    "from bokeh.models import HoverTool\n",
    "from bokeh.models import LinearInterpolator, CategoricalColorMapper\n",
    "from bokeh.models import ColumnDataSource\n",
    "from bokeh.io import show\n",
    "from bokeh.plotting import figure\n",
    "from bokeh.models import NumeralTickFormatter\n",
    "from bokeh.io import output_notebook\n",
    "from ipywidgets import interact\n",
    "from bokeh.io import push_notebook\n",
    "output_notebook()"
   ]
  },
  {
   "cell_type": "markdown",
   "metadata": {},
   "source": [
    "## <font color='blue'>2. Loading data from the server and plotting </font>\n"
   ]
  },
  {
   "cell_type": "code",
   "execution_count": 2,
   "metadata": {},
   "outputs": [],
   "source": [
    "#Reading data from the server, data processing, creating new features and removing extreme values\n",
    "data = pd.read_csv('Building_Permits.csv', low_memory=False)\n",
    "backup_data = data #creating a backup dataframe for safety"
   ]
  },
  {
   "cell_type": "code",
   "execution_count": 3,
   "metadata": {},
   "outputs": [
    {
     "data": {
      "text/plain": [
       "Index(['X', 'Y', 'OBJECTID', 'permittypemapped', 'permitnum', 'workclass',\n",
       "       'permitclass', 'proposedworkdescription', 'permitclassmapped',\n",
       "       'applieddate', 'issueddate', 'estprojectcost', 'constcompletedofficial',\n",
       "       'censuslanduse', 'censuslandusecode', 'devplanid', 'corlotid',\n",
       "       'cntyacctnum', 'coissueddate', 'cocissueddate', 'cocnbr',\n",
       "       'contractorcompanyname', 'contractordba', 'contractoraddress1',\n",
       "       'contractoraddress2', 'contractorcity', 'contractorstate',\n",
       "       'contractoremail', 'contractorlicnum', 'contractorphone',\n",
       "       'contractorzip', 'countylocation', 'description', 'expirednewpermnum',\n",
       "       'expiresdate', 'fee', 'fiscalyear', 'govtownedprop', 'grouptenantname',\n",
       "       'housingunitstotal', 'housingunitsexist', 'issueddate_mth',\n",
       "       'issueddate_yr', 'jurisdiction', 'jurisdiction_atissue',\n",
       "       'jurisdiction_inout_ral', 'landusedescription', 'landusenewuse',\n",
       "       'latitude_perm', 'longitude_perm', 'mapsheet', 'numberstories',\n",
       "       'originaladdress1', 'originaladdress2', 'originalcity', 'originalstate',\n",
       "       'originalzip', 'parc_open_space_zone_fee', 'parcelownername',\n",
       "       'parcelowneraddress1', 'parcelowneraddress2', 'perm_comments',\n",
       "       'permittype', 'pin', 'projectname', 'proposeduse', 'publisher',\n",
       "       'recordupdatedate', 'reviewercomments', 'statelicnum', 'statuscurrent',\n",
       "       'statuscurrentmapped', 'streetnum', 'streetdirectionprefix',\n",
       "       'streetname', 'streetdirectionsuffix', 'streettype', 'totalsqft',\n",
       "       'voiddate', 'workclassmapped', 'GlobalID', 'CreationDate', 'Creator',\n",
       "       'EditDate', 'Editor', 'const_type', 'occupancyclass'],\n",
       "      dtype='object')"
      ]
     },
     "execution_count": 3,
     "metadata": {},
     "output_type": "execute_result"
    }
   ],
   "source": [
    "backup_data.columns"
   ]
  },
  {
   "cell_type": "code",
   "execution_count": 4,
   "metadata": {},
   "outputs": [
    {
     "data": {
      "text/plain": [
       "(141953, 87)"
      ]
     },
     "execution_count": 4,
     "metadata": {},
     "output_type": "execute_result"
    }
   ],
   "source": [
    "backup_data.shape"
   ]
  },
  {
   "cell_type": "code",
   "execution_count": 5,
   "metadata": {},
   "outputs": [
    {
     "data": {
      "image/png": "[encoded data removed]",
      "text/plain": [
       "<Figure size 720x432 with 1 Axes>"
      ]
     },
     "metadata": {
      "needs_background": "light"
     },
     "output_type": "display_data"
    }
   ],
   "source": [
    "cons_data = backup_data\n",
    "time_est = cons_data[[\"estprojectcost\",\"issueddate_yr\"]]\n",
    "time_est.dropna(inplace=True)\n",
    "time_data = time_est.groupby([\"issueddate_yr\"]).sum()\n",
    "plt.figure(figsize=(10,6))\n",
    "plt.plot(time_data.index,time_data.estprojectcost)\n",
    "plt.xticks(time_data.index)\n",
    "plt.title(\"Estimated project cost in millions of dollars each year\",fontsize=16)\n",
    "plt.ylabel('Estimated project cost in millions of dollars', fontsize=16)\n",
    "plt.xlabel('year', fontsize=16)\n",
    "plt.show()"
   ]
  },
  {
   "cell_type": "markdown",
   "metadata": {},
   "source": [
    "#### <font color='green'>Analysis from Graph </font>\n",
    "\n",
    "This is a powerful plot which shows the **HOUSING BUBBLE RECESSION**. The number of projects sanctioned were high during the years 2002 till 2007 and because of this the estimated project cost is also high. \n",
    "\n",
    "Once the recession started we see a steep drop in the estimated project costs cause there was no finance to create new buildings and on-going constructions came to halt. After the end of recession (2009) the market slowly started recovering (the upward curve)."
   ]
  },
  {
   "cell_type": "markdown",
   "metadata": {},
   "source": [
    "# <font color='purple'>Exploratory Data Analysis</font>"
   ]
  },
  {
   "cell_type": "code",
   "execution_count": 6,
   "metadata": {
    "scrolled": true
   },
   "outputs": [
    {
     "data": {
      "text/plain": [
       "RALEIGH          141071\n",
       "WAKE FOREST         335\n",
       "GARNER              258\n",
       "None                151\n",
       "MORRISVILLE         118\n",
       "APEX                 11\n",
       "KNIGHTDALE            3\n",
       "CARY                  2\n",
       "ROLESVILLE            2\n",
       "HOLLY SPRINGS         1\n",
       "FUQUAY VARINA         1\n",
       "Name: originalcity, dtype: int64"
      ]
     },
     "execution_count": 6,
     "metadata": {},
     "output_type": "execute_result"
    }
   ],
   "source": [
    "cons_data.originalcity.value_counts()"
   ]
  },
  {
   "cell_type": "markdown",
   "metadata": {},
   "source": [
    "### The data is of Raleigh city along with the neighboring places"
   ]
  },
  {
   "cell_type": "markdown",
   "metadata": {},
   "source": [
    "### <font color='blue'>3a. Number of rows and columns in the dataset </font>"
   ]
  },
  {
   "cell_type": "code",
   "execution_count": 7,
   "metadata": {},
   "outputs": [
    {
     "name": "stdout",
     "output_type": "stream",
     "text": [
      "The number of rows in this dataset are: 141953\n",
      "The number of columns in this dataset are: 87\n",
      "Total number of NA values in whole dataframe:  2107710\n"
     ]
    }
   ],
   "source": [
    "print(\"The number of rows in this dataset are:\", cons_data.shape[0])\n",
    "print(\"The number of columns in this dataset are:\", cons_data.shape[1])\n",
    "print(\"Total number of NA values in whole dataframe: \", cons_data.isna().sum().sum())"
   ]
  },
  {
   "cell_type": "markdown",
   "metadata": {},
   "source": [
    "#### This dataset contains Astonishing NA values.\n",
    "   Right now my focus is to clear the NA values of the needed columns\n",
    "#### There are 87 columns and it seems intimidating to have all these columns in just one dataframe. \n",
    "So, I have divided the dataframe into multiple based on the names of columns.\n",
    "We can merge them in future again to derive values or analysis.\n",
    "The primary intention of this breakdown is to slowly get picture of all these attributes"
   ]
  },
  {
   "cell_type": "code",
   "execution_count": 8,
   "metadata": {
    "scrolled": true
   },
   "outputs": [],
   "source": [
    "#Moving all the dates columns to date_columns dataframe\n",
    "date_columns = cons_data.loc[:, (cons_data.columns.str.contains('Date') | cons_data.columns.str.contains('date') )]\n",
    "\n",
    "# Moving all the contractor details into a new Dataframe\n",
    "contractor_details = cons_data.loc[:, cons_data.columns.str.contains('contractor')]\n",
    "\n",
    "# Moving columns having original details\n",
    "original_details = cons_data.loc[:, cons_data.columns.str.contains('original')]\n",
    "\n",
    "#Dropping these columns from the main dataframe\n",
    "dropping_columns = date_columns.columns, contractor_details.columns, original_details.columns\n",
    "dropping_columns_flat = [item for sublist in dropping_columns for item in sublist]\n",
    "cons_data.drop(dropping_columns_flat, axis=1, inplace=True)"
   ]
  },
  {
   "cell_type": "markdown",
   "metadata": {},
   "source": [
    "### <font color='blue'>3b. Total different types of constructions </font>"
   ]
  },
  {
   "cell_type": "markdown",
   "metadata": {},
   "source": [
    "The type of building seems new to me as I dont know what these roman letters depict.\n",
    "\n",
    "A quick google search revealed that these are **FIRE-RESISTANCE RATING** 🔥\n",
    "\n",
    "• Type I– Commonly referred to as fire-resistive construction\n",
    "\n",
    "• Type II– Commonly referred to as non-combustible construction\n",
    "\n",
    "• Type III– Commonly referred to as ordinary construction\n",
    "\n",
    "• Type IV – Commonly referred to as heavy-timber construction\n",
    "\n",
    "• Type V– Commonly referred to as wood-frame construction\n",
    "\n",
    "More information about this can be found here https://codes.iccsafe.org/public/document/code/542/9670120"
   ]
  },
  {
   "cell_type": "code",
   "execution_count": 9,
   "metadata": {},
   "outputs": [
    {
     "name": "stdout",
     "output_type": "stream",
     "text": [
      "7862 buildings do not have any construction type which is 6 percent of total rows\n"
     ]
    }
   ],
   "source": [
    "#There are 7862 rows which do not have any value in the construction type column\n",
    "print(cons_data.const_type.isna().sum(),\"buildings do not have any construction type which is\",\n",
    "      (round((7862/cons_data.shape[0])*100)),\"percent of total rows\")"
   ]
  },
  {
   "cell_type": "code",
   "execution_count": 10,
   "metadata": {},
   "outputs": [
    {
     "name": "stdout",
     "output_type": "stream",
     "text": [
      "The number of buidings with construction type  V  B - 89641\n",
      "The number of buidings with construction type  VI U - 18381\n",
      "The number of buidings with construction type  II B - 11710\n",
      "The number of buidings with construction type  I  B - 2658\n",
      "The number of buidings with construction type  I  A - 2139\n",
      "The number of buidings with construction type  IV U - 2028\n",
      "The number of buidings with construction type  II A - 1907\n",
      "The number of buidings with construction type  IIIB - 1851\n",
      "The number of buidings with construction type  V  A - 1818\n",
      "The number of buidings with construction type  VI P - 428\n",
      "The number of buidings with construction type  II - 385\n",
      "The number of buidings with construction type  IV P - 367\n",
      "The number of buidings with construction type  IIIA - 237\n",
      "The number of buidings with construction type  V  U - 223\n",
      "The number of buidings with construction type  I - 122\n",
      "The number of buidings with construction type  IV - 119\n",
      "The number of buidings with construction type  V  P - 52\n",
      "The number of buidings with construction type  III - 25\n"
     ]
    }
   ],
   "source": [
    "building_fire_type = cons_data.const_type.value_counts()\n",
    "for i,j in zip(building_fire_type.index, building_fire_type):\n",
    "    print( \"The number of buidings with construction type \", i, \"-\", j)"
   ]
  },
  {
   "cell_type": "markdown",
   "metadata": {},
   "source": [
    "We can clean this further and make only five types of rating by excluding the sub categories in roman"
   ]
  },
  {
   "cell_type": "code",
   "execution_count": 11,
   "metadata": {
    "scrolled": true
   },
   "outputs": [
    {
     "name": "stdout",
     "output_type": "stream",
     "text": [
      "The number of buidings with construction type  I - 4919 account for  3.47 percentage of total construction\n",
      "The number of buidings with construction type  II - 14002 account for  9.86 percentage of total construction\n",
      "The number of buidings with construction type  III - 2113 account for  1.49 percentage of total construction\n",
      "The number of buidings with construction type  IV - 2514 account for  1.77 percentage of total construction\n",
      "The number of buidings with construction type  V - 91734 account for  64.62 percentage of total construction\n",
      "The number of buidings with construction type  VI - 18809 account for  13.25 percentage of total construction\n"
     ]
    }
   ],
   "source": [
    "building_fire_type =building_fire_type.reset_index()\n",
    "building_fire_type.columns = [\"fire_type\",\"freq\"]\n",
    "building_fire_type['roman_letter'] = building_fire_type['fire_type'].str.split(' ').str[0]\n",
    "j = []\n",
    "for i in building_fire_type.roman_letter:\n",
    "    \n",
    "    if len(i)>3:\n",
    "        j.append(i[0:3])\n",
    "    else:\n",
    "        j.append(i)   \n",
    "building_fire_type['roman_letter'] = j\n",
    "\n",
    "roman_freq = building_fire_type.groupby('roman_letter').sum()\n",
    "roman_freq['percentage'] = (roman_freq.freq/cons_data.shape[0]) *100\n",
    "roman_freq['percentage'] = roman_freq.percentage.round(2)\n",
    "\n",
    "for i,j,k in zip(roman_freq.index, roman_freq.freq, roman_freq.percentage):\n",
    "    print( \"The number of buidings with construction type \", i, \"-\", j, \"account for \", \n",
    "          k, \"percentage of total construction\")"
   ]
  },
  {
   "cell_type": "markdown",
   "metadata": {},
   "source": [
    "#### <font color='green'>Analysis from Output </font>\n",
    "\n",
    "The maximum number of constructions are grade five with 91734 houses/constructions, which account upto 65% of the construction type (As type V typically contains the residential houses, it is accounting for maximum share)\n",
    "\n",
    "The least amount of contruction type is III with a mere 1.49 percent(there are very less ORDINARY Construction type in Raleigh area)\n",
    "\n",
    "Interesting to see type VI construction type which I did not find in any online article"
   ]
  },
  {
   "cell_type": "markdown",
   "metadata": {},
   "source": [
    "### <font color='blue'>3c: Mean and median number of stories</font>"
   ]
  },
  {
   "cell_type": "code",
   "execution_count": 12,
   "metadata": {
    "scrolled": true
   },
   "outputs": [
    {
     "name": "stdout",
     "output_type": "stream",
     "text": [
      "19511 buildings do not have data of the number of stories which account 14.0 percent of total rows\n"
     ]
    }
   ],
   "source": [
    "print(cons_data.numberstories.isna().sum(),\"buildings do not have data of the number of stories which account\",\n",
    "      (round((cons_data.numberstories.isna().sum()/cons_data.shape[0])*100)),\"percent of total rows\")"
   ]
  },
  {
   "cell_type": "code",
   "execution_count": 13,
   "metadata": {},
   "outputs": [
    {
     "name": "stderr",
     "output_type": "stream",
     "text": [
      "'c' argument looks like a single numeric RGB or RGBA sequence, which should be avoided as value-mapping will have precedence in case its length matches with 'x' & 'y'.  Please use a 2-D array with a single row if you really want to specify the same RGB or RGBA value for all points.\n"
     ]
    },
    {
     "data": {
      "text/plain": [
       "count    122442.000000\n",
       "mean          9.707421\n",
       "std        1114.892012\n",
       "min           0.000000\n",
       "25%           1.000000\n",
       "50%           2.000000\n",
       "75%           2.000000\n",
       "max      342365.000000\n",
       "Name: numberstories, dtype: float64"
      ]
     },
     "execution_count": 13,
     "metadata": {},
     "output_type": "execute_result"
    },
    {
     "data": {
      "image/png": "[encoded data removed]",
      "text/plain": [
       "<Figure size 432x288 with 1 Axes>"
      ]
     },
     "metadata": {
      "needs_background": "light"
     },
     "output_type": "display_data"
    }
   ],
   "source": [
    "#boxplot just shows a vertical line because outliers have changed the x-axis range\n",
    "sns.boxenplot(cons_data.numberstories.dropna())\n",
    "cons_data.numberstories.describe()"
   ]
  },
  {
   "cell_type": "code",
   "execution_count": 14,
   "metadata": {},
   "outputs": [
    {
     "name": "stdout",
     "output_type": "stream",
     "text": [
      "There are 102271 buildings having one or two floors which account 57.0 percentage of total buildings\n"
     ]
    }
   ],
   "source": [
    "print(\"There are\", cons_data.numberstories.value_counts()[1] + cons_data.numberstories.value_counts()[2] ,\n",
    "      \"buildings having one or two floors which account\", \n",
    "      round(((cons_data.numberstories.value_counts()[1] + cons_data.numberstories.value_counts()[1])/cons_data.shape[0])*100),\"percentage \\\n",
    "of total buildings\")"
   ]
  },
  {
   "cell_type": "markdown",
   "metadata": {},
   "source": [
    "#### <font color='green'>Analysis from Output </font>\n",
    "\n",
    "All these numbers and graphs show that there is data issue for the number of stories column. Cause the tallest building Burj Khalifa has 163 floors and our data shows 342,000 stories (This is a serious issue) \n",
    "\n",
    "    1.The highest number of floors in Raleigh city is 32 (PNC plaza)\n",
    "    2.The 25th and 75the percentile tells that more than 50% buildings contain either 1 or 2 floors, with a median of 2 floors\n",
    "    3.The mean value is 9.7. These metrics are not realistic as they are effected by outliers. The boxplot clearly shows the skewness because of the extreme points\n",
    "    \n",
    "#### Solution: Try to investigate why we have such unintended values in the number of stories column"
   ]
  },
  {
   "cell_type": "markdown",
   "metadata": {},
   "source": [
    "### <font color='blue'>3d: Standard deviation for the X and Y coordinates of the permits </font>\n",
    "The latitude of Raleigh is 35.787743 and the longitude is -78.6442. Hence, the assumption is that there wont be much deviations or variations in the data of X and Y column"
   ]
  },
  {
   "cell_type": "code",
   "execution_count": 15,
   "metadata": {},
   "outputs": [
    {
     "data": {
      "text/html": [
       "<div>\n",
       "<style scoped>\n",
       "    .dataframe tbody tr th:only-of-type {\n",
       "        vertical-align: middle;\n",
       "    }\n",
       "\n",
       "    .dataframe tbody tr th {\n",
       "        vertical-align: top;\n",
       "    }\n",
       "\n",
       "    .dataframe thead th {\n",
       "        text-align: right;\n",
       "    }\n",
       "</style>\n",
       "<table border=\"1\" class=\"dataframe\">\n",
       "  <thead>\n",
       "    <tr style=\"text-align: right;\">\n",
       "      <th></th>\n",
       "      <th>X</th>\n",
       "      <th>Y</th>\n",
       "    </tr>\n",
       "  </thead>\n",
       "  <tbody>\n",
       "    <tr>\n",
       "      <td>count</td>\n",
       "      <td>141830.000000</td>\n",
       "      <td>141830.000000</td>\n",
       "    </tr>\n",
       "    <tr>\n",
       "      <td>mean</td>\n",
       "      <td>-78.635798</td>\n",
       "      <td>35.835300</td>\n",
       "    </tr>\n",
       "    <tr>\n",
       "      <td>std</td>\n",
       "      <td>0.068805</td>\n",
       "      <td>0.058392</td>\n",
       "    </tr>\n",
       "    <tr>\n",
       "      <td>min</td>\n",
       "      <td>-78.816616</td>\n",
       "      <td>33.956035</td>\n",
       "    </tr>\n",
       "    <tr>\n",
       "      <td>25%</td>\n",
       "      <td>-78.681172</td>\n",
       "      <td>35.788197</td>\n",
       "    </tr>\n",
       "    <tr>\n",
       "      <td>50%</td>\n",
       "      <td>-78.637151</td>\n",
       "      <td>35.834122</td>\n",
       "    </tr>\n",
       "    <tr>\n",
       "      <td>75%</td>\n",
       "      <td>-78.577937</td>\n",
       "      <td>35.885177</td>\n",
       "    </tr>\n",
       "    <tr>\n",
       "      <td>max</td>\n",
       "      <td>-78.490945</td>\n",
       "      <td>35.970246</td>\n",
       "    </tr>\n",
       "  </tbody>\n",
       "</table>\n",
       "</div>"
      ],
      "text/plain": [
       "                   X              Y\n",
       "count  141830.000000  141830.000000\n",
       "mean      -78.635798      35.835300\n",
       "std         0.068805       0.058392\n",
       "min       -78.816616      33.956035\n",
       "25%       -78.681172      35.788197\n",
       "50%       -78.637151      35.834122\n",
       "75%       -78.577937      35.885177\n",
       "max       -78.490945      35.970246"
      ]
     },
     "execution_count": 15,
     "metadata": {},
     "output_type": "execute_result"
    }
   ],
   "source": [
    "cons_data[[\"X\",\"Y\"]].describe()"
   ]
  },
  {
   "cell_type": "code",
   "execution_count": 16,
   "metadata": {
    "scrolled": false
   },
   "outputs": [
    {
     "data": {
      "text/plain": [
       "[Text(0, 0.5, 'Frequency'), Text(0.5, 1.0, 'Distribution of Y coordinates')]"
      ]
     },
     "execution_count": 16,
     "metadata": {},
     "output_type": "execute_result"
    },
    {
     "data": {
      "image/png": "[encoded data removed]",
      "text/plain": [
       "<Figure size 864x432 with 2 Axes>"
      ]
     },
     "metadata": {
      "needs_background": "light"
     },
     "output_type": "display_data"
    }
   ],
   "source": [
    "#distribution of X and Y co-ordinates\n",
    "fig, (ax1, ax2) = plt.subplots(ncols=2, sharey=True)\n",
    "fig.set_size_inches(12, 6)\n",
    "sns.distplot(cons_data.X.dropna(),ax=ax1)\n",
    "sns.distplot(cons_data.Y.dropna(),ax=ax2)\n",
    "ax1.set(ylabel='Frequency',title=\"Distribution of X coordinates\") \n",
    "ax2.set(ylabel='Frequency',title=\"Distribution of Y coordinates\") "
   ]
  },
  {
   "cell_type": "code",
   "execution_count": 17,
   "metadata": {},
   "outputs": [
    {
     "name": "stdout",
     "output_type": "stream",
     "text": [
      "Difference between maximum and minimum value of X co-ordinates is  0.3256715894193576\n",
      "Difference between maximum and minimum value of Y co-ordinates is  2.014211497621062\n"
     ]
    }
   ],
   "source": [
    "#few summary metrics\n",
    "cons_data.X.describe()\n",
    "print(\"Difference between maximum and minimum value of X co-ordinates is \",cons_data.X.max()-cons_data.X.min())\n",
    "print(\"Difference between maximum and minimum value of Y co-ordinates is \",cons_data.Y.max()-cons_data.Y.min())"
   ]
  },
  {
   "cell_type": "markdown",
   "metadata": {},
   "source": [
    "#### <font color='green'>Analysis from Output </font>\n",
    "\n",
    "More number of buildings are situated near -78.64 longitutde\n",
    "\n",
    "With a Difference of 0.3256 between the minimum and maximum value of X column, we can say that the variance is less. This intern implies that the standard deviation will be very minute (std 0.0688)\n",
    "\n",
    "**The standard deviation of X and Y show that the area operated is higher in terms of north and south distance rather than east and west as the variation in Y coordinates is higher than X coordinates**"
   ]
  },
  {
   "cell_type": "markdown",
   "metadata": {},
   "source": [
    "### <font color='blue'>4: Plotting Estimated Project Cost and Issue Date Month Attributes</font>"
   ]
  },
  {
   "cell_type": "code",
   "execution_count": 18,
   "metadata": {},
   "outputs": [
    {
     "data": {
      "text/html": [
       "<div>\n",
       "<style scoped>\n",
       "    .dataframe tbody tr th:only-of-type {\n",
       "        vertical-align: middle;\n",
       "    }\n",
       "\n",
       "    .dataframe tbody tr th {\n",
       "        vertical-align: top;\n",
       "    }\n",
       "\n",
       "    .dataframe thead th {\n",
       "        text-align: right;\n",
       "    }\n",
       "</style>\n",
       "<table border=\"1\" class=\"dataframe\">\n",
       "  <thead>\n",
       "    <tr style=\"text-align: right;\">\n",
       "      <th></th>\n",
       "      <th>issueddate_yr</th>\n",
       "      <th>estprojectcost</th>\n",
       "    </tr>\n",
       "  </thead>\n",
       "  <tbody>\n",
       "    <tr>\n",
       "      <td>count</td>\n",
       "      <td>138519.000000</td>\n",
       "      <td>1.419530e+05</td>\n",
       "    </tr>\n",
       "    <tr>\n",
       "      <td>mean</td>\n",
       "      <td>2008.795176</td>\n",
       "      <td>1.920127e+05</td>\n",
       "    </tr>\n",
       "    <tr>\n",
       "      <td>std</td>\n",
       "      <td>5.486947</td>\n",
       "      <td>1.493678e+06</td>\n",
       "    </tr>\n",
       "    <tr>\n",
       "      <td>min</td>\n",
       "      <td>2000.000000</td>\n",
       "      <td>0.000000e+00</td>\n",
       "    </tr>\n",
       "    <tr>\n",
       "      <td>25%</td>\n",
       "      <td>2004.000000</td>\n",
       "      <td>1.000000e+04</td>\n",
       "    </tr>\n",
       "    <tr>\n",
       "      <td>50%</td>\n",
       "      <td>2008.000000</td>\n",
       "      <td>5.440400e+04</td>\n",
       "    </tr>\n",
       "    <tr>\n",
       "      <td>75%</td>\n",
       "      <td>2014.000000</td>\n",
       "      <td>1.350000e+05</td>\n",
       "    </tr>\n",
       "    <tr>\n",
       "      <td>max</td>\n",
       "      <td>2018.000000</td>\n",
       "      <td>1.700000e+08</td>\n",
       "    </tr>\n",
       "  </tbody>\n",
       "</table>\n",
       "</div>"
      ],
      "text/plain": [
       "       issueddate_yr  estprojectcost\n",
       "count  138519.000000    1.419530e+05\n",
       "mean     2008.795176    1.920127e+05\n",
       "std         5.486947    1.493678e+06\n",
       "min      2000.000000    0.000000e+00\n",
       "25%      2004.000000    1.000000e+04\n",
       "50%      2008.000000    5.440400e+04\n",
       "75%      2014.000000    1.350000e+05\n",
       "max      2018.000000    1.700000e+08"
      ]
     },
     "execution_count": 18,
     "metadata": {},
     "output_type": "execute_result"
    }
   ],
   "source": [
    "#Distribution of data\n",
    "cons_data[\"issueddate_yr\"] = date_columns[\"issueddate_yr\"]\n",
    "cons_data[[\"issueddate_yr\",\"estprojectcost\"]].describe()"
   ]
  },
  {
   "cell_type": "code",
   "execution_count": 19,
   "metadata": {},
   "outputs": [
    {
     "data": {
      "text/plain": [
       "count    141953.000000\n",
       "mean        192.012747\n",
       "std        1493.678429\n",
       "min           0.000000\n",
       "25%          10.000000\n",
       "50%          54.404000\n",
       "75%         135.000000\n",
       "max      170000.000000\n",
       "Name: estprojectcost, dtype: float64"
      ]
     },
     "execution_count": 19,
     "metadata": {},
     "output_type": "execute_result"
    }
   ],
   "source": [
    "# Dividing it with 1000 to see better numbers and interpret in thousands of dollars\n",
    "cons_data[\"estprojectcost\"] = cons_data.estprojectcost/1000\n",
    "cons_data.estprojectcost.describe()"
   ]
  },
  {
   "cell_type": "code",
   "execution_count": 20,
   "metadata": {},
   "outputs": [
    {
     "name": "stdout",
     "output_type": "stream",
     "text": [
      "number of buildings having zero estimated cost: 5917\n"
     ]
    }
   ],
   "source": [
    "#I believe having zero is not acceptable. Hence I will remove rows containing zero and perform analysis\n",
    "print(\"number of buildings having zero estimated cost:\",cons_data[cons_data.estprojectcost == 0].shape[0])\n",
    "est_data = cons_data[cons_data.estprojectcost != 0]"
   ]
  },
  {
   "cell_type": "code",
   "execution_count": 21,
   "metadata": {},
   "outputs": [
    {
     "data": {
      "text/plain": [
       "[Text(0, 0.5, 'Frequency'),\n",
       " Text(0.5, 1.0, 'Distribution of estimated project after removing outliers')]"
      ]
     },
     "execution_count": 21,
     "metadata": {},
     "output_type": "execute_result"
    },
    {
     "data": {
      "image/png": "[encoded data removed]",
      "text/plain": [
       "<Figure size 1008x360 with 2 Axes>"
      ]
     },
     "metadata": {
      "needs_background": "light"
     },
     "output_type": "display_data"
    }
   ],
   "source": [
    "# We see a small hump near 0 of the X-axis which have outliers. Hence changing the x axis range will help\n",
    "#get better perspective\n",
    "fig, (ax1, ax2) = plt.subplots(ncols=2, sharey=True)\n",
    "fig.set_size_inches(14, 5)\n",
    "est_data_no_na = est_data.estprojectcost.dropna()\n",
    "est_data_no_na = est_data_no_na[est_data_no_na < 180]\n",
    "sns.distplot(est_data.estprojectcost.dropna(),ax=ax1)\n",
    "sns.distplot(est_data_no_na.dropna(),ax=ax2)\n",
    "ax1.set(ylabel='Frequency',title=\"Distribution of estimated project cost with outliers\") \n",
    "ax2.set(ylabel='Frequency',title=\"Distribution of estimated project after removing outliers\") "
   ]
  },
  {
   "cell_type": "code",
   "execution_count": 22,
   "metadata": {
    "scrolled": true
   },
   "outputs": [
    {
     "data": {
      "text/plain": [
       "Text(0.5, 0, 'Month')"
      ]
     },
     "execution_count": 22,
     "metadata": {},
     "output_type": "execute_result"
    },
    {
     "data": {
      "image/png": "[encoded data removed]",
      "text/plain": [
       "<Figure size 864x288 with 1 Axes>"
      ]
     },
     "metadata": {
      "needs_background": "light"
     },
     "output_type": "display_data"
    }
   ],
   "source": [
    "#creating a plot to see in which month more number of estimated projectcost were issued \n",
    "plt.figure(figsize=(12,4))\n",
    "date_estcost= pd.DataFrame()\n",
    "date_estcost[\"estprojectcost\"] = cons_data[\"estprojectcost\"]\n",
    "date_estcost[\"month\"] = date_columns[\"issueddate_mth\"]\n",
    "date_estcost.dropna(inplace=True)\n",
    "total_est_cost = date_estcost.groupby(\"month\").sum().reset_index()\n",
    "total_est_cost['estprojectcost'] = total_est_cost['estprojectcost'] / 1000\n",
    "total_est_cost['monthName'] = total_est_cost.month.astype(int).apply(lambda x: calendar.month_name[x])\n",
    "ax = sns.barplot(total_est_cost.monthName, total_est_cost.estprojectcost)\n",
    "plt.title(\"Millions of dollars issued each month\")\n",
    "plt.ylabel('Millions of dollars', fontsize=12)\n",
    "plt.xlabel('Month', fontsize=12)"
   ]
  },
  {
   "cell_type": "markdown",
   "metadata": {},
   "source": [
    "#### <font color='green'>Analysis from Output </font>\n",
    "\n",
    "    1. The distribution plot shows that this column is highly skewed to right. Which means there are constructions\n",
    "    that cost a lot more than others.\n",
    "    2. 75 % of the projects costed between 1 to 135 thousand dollars, with a mean of 54 thousand dollars\n",
    "    3. The minimum cost is 0 and maximum cost is whooping 170 million dollars.\n",
    "    4. The quartiles of year show that there are more number of projects sanctioned during 2000 to 2008 than\n",
    "    from 2008 to 2018\n",
    "    \n",
    "The bar plot shows the cumulative amount of estimated millions of dollars spend in each month inrespective of year\n",
    "\n",
    "    1.The April month is the active construction month and december is the time when least productive work happen (cause it is christmas time)"
   ]
  },
  {
   "cell_type": "markdown",
   "metadata": {},
   "source": [
    "### <font color='blue'>5. A hypothetical executive team is interested in the behavior between Permit Issue Year and Estimated Project Cost</font>\n",
    "\n",
    "\n",
    "For the \"New\" construction work class, with a construction type of \"V B\", and with less than 3 stories. Perform a simple regression analysis of this relationship and describe what insights we can gleam from this using success metrics. "
   ]
  },
  {
   "cell_type": "code",
   "execution_count": 23,
   "metadata": {},
   "outputs": [],
   "source": [
    "#bringing the data back to a single column\n",
    "cons_data[\"issueddate_yr\"] = date_columns.issueddate_yr\n",
    "cons_data['estprojectcost'] = cons_data[\"estprojectcost\"]*1000"
   ]
  },
  {
   "cell_type": "code",
   "execution_count": 24,
   "metadata": {},
   "outputs": [],
   "source": [
    "# subsetting the data containing \n",
    "# new_building in workclass column\n",
    "# V B in construction type column\n",
    "# number of stories less than 3 in numberstories column\n",
    "\n",
    "building_subset = cons_data[(cons_data['workclass'].str.contains(\"New Building\",case=False)== True) &\n",
    "                           (cons_data[\"const_type\"].str.contains(\"V  B\")==True) &\n",
    "                            (cons_data[\"numberstories\"] < 3)]"
   ]
  },
  {
   "cell_type": "code",
   "execution_count": 25,
   "metadata": {},
   "outputs": [
    {
     "data": {
      "text/plain": [
       "(31056, 62)"
      ]
     },
     "execution_count": 25,
     "metadata": {},
     "output_type": "execute_result"
    }
   ],
   "source": [
    "building_subset.shape"
   ]
  },
  {
   "cell_type": "markdown",
   "metadata": {},
   "source": [
    "#### We have enough number of samples to perform a regression analysis"
   ]
  },
  {
   "cell_type": "code",
   "execution_count": 26,
   "metadata": {},
   "outputs": [],
   "source": [
    "#taking the subset of column we want\n",
    "building_subset.drop(building_subset.columns.difference(['issueddate_yr','estprojectcost']), 1, inplace=True)\n",
    "building_subset.reset_index(inplace=True, drop=True)"
   ]
  },
  {
   "cell_type": "code",
   "execution_count": 27,
   "metadata": {},
   "outputs": [
    {
     "name": "stdout",
     "output_type": "stream",
     "text": [
      "The number of NA values  in issue_yr column 193 which is  0.006214580113343637 percentage\n"
     ]
    },
    {
     "data": {
      "text/plain": [
       "False    127\n",
       "True      66\n",
       "Name: NEWcolumn, dtype: int64"
      ]
     },
     "execution_count": 27,
     "metadata": {},
     "output_type": "execute_result"
    }
   ],
   "source": [
    "#We have 193 NA values in issued year column\n",
    "print(\"The number of NA values  in issue_yr column\", building_subset.issueddate_yr.isna().sum(),\n",
    "     \"which is \", building_subset.issueddate_yr.isna().sum()/building_subset.shape[0] ,\"percentage\" )\n",
    "\n",
    "NA_rows = building_subset[building_subset.isna().any(axis=1)]\n",
    "oneplus_NA = NA_rows.index + 1\n",
    "oneminus_NA = NA_rows.index - 1\n",
    "\n",
    "upper_value = []\n",
    "lower_value = []\n",
    "for i,j in zip(oneplus_NA, oneminus_NA):\n",
    "    try:\n",
    "#         print(building_subset.iloc[i][1])\n",
    "        upper_value.append(building_subset.iloc[i][1])\n",
    "        lower_value.append(building_subset.iloc[j][1])\n",
    "    except:\n",
    "        continue\n",
    "NA_rows[\"upper_value\"] = upper_value\n",
    "NA_rows[\"lower_value\"] = lower_value\n",
    "NA_rows['NEWcolumn'] = NA_rows['upper_value'] == NA_rows[\"lower_value\"]\n",
    "\n",
    "NA_rows.NEWcolumn.value_counts()"
   ]
  },
  {
   "cell_type": "markdown",
   "metadata": {},
   "source": [
    "###  193 rows have NA values which is less than 0.5 % of whole dataset.\n",
    "So, we can either drop the rows or impute. I chose imputing\n",
    "\n",
    "Out of 193 NA value rows, 66 NA values contain same year on the above and below row.\n",
    "#### I have replaced the NA values with an assumption that the NA is actually the value on its above row\n",
    "\n",
    "example: If there is NA value on 25th index then the 26th index and 24th index will have same issue year. \n",
    "There are 66 such matching indexes.\n",
    "\n",
    "There are different ways to handle missing values:\n",
    "\n",
    "    A constant value that has meaning within the domain, such as 0, distinct from all other values.\n",
    "    A value from another randomly selected record.\n",
    "    A mean, median or mode value for the column.\n",
    "    A value estimated by another predictive model.\n"
   ]
  },
  {
   "cell_type": "code",
   "execution_count": 28,
   "metadata": {},
   "outputs": [],
   "source": [
    "#replacing NA values with the above row\n",
    "building_subset.issueddate_yr.fillna(method='ffill', inplace=True)"
   ]
  },
  {
   "cell_type": "code",
   "execution_count": 29,
   "metadata": {
    "scrolled": true
   },
   "outputs": [
    {
     "data": {
      "text/plain": [
       "count    3.105600e+04\n",
       "mean     2.119560e+05\n",
       "std      8.760676e+05\n",
       "min      0.000000e+00\n",
       "25%      9.820800e+04\n",
       "50%      1.500000e+05\n",
       "75%      2.562760e+05\n",
       "max      1.000000e+08\n",
       "Name: estprojectcost, dtype: float64"
      ]
     },
     "execution_count": 29,
     "metadata": {},
     "output_type": "execute_result"
    }
   ],
   "source": [
    "building_subset['estprojectcost'] = building_subset.estprojectcost.astype(float)\n",
    "building_subset['issueddate_yr'] = building_subset.issueddate_yr.astype(int)\n",
    "#There are outliers for sure\n",
    "building_subset.estprojectcost.describe() "
   ]
  },
  {
   "cell_type": "code",
   "execution_count": 30,
   "metadata": {
    "scrolled": true
   },
   "outputs": [
    {
     "data": {
      "text/plain": [
       "<matplotlib.axes._subplots.AxesSubplot at 0x23645ae0940>"
      ]
     },
     "execution_count": 30,
     "metadata": {},
     "output_type": "execute_result"
    },
    {
     "data": {
      "image/png": "[encoded data removed]",
      "text/plain": [
       "<Figure size 432x288 with 1 Axes>"
      ]
     },
     "metadata": {
      "needs_background": "light"
     },
     "output_type": "display_data"
    }
   ],
   "source": [
    "sns.scatterplot(building_subset.issueddate_yr, building_subset.estprojectcost)\n",
    "#This scatterplot clearly shows that there are outliers whose value is wayy more than other points.\n",
    "#One of the reason might be the Raleigh created a defying buillding that has costed 100 million dollars\n",
    "#or there might be error in data\n",
    "# Two other ouliers show values around  30 million"
   ]
  },
  {
   "cell_type": "markdown",
   "metadata": {},
   "source": [
    "### Corelation Matrix"
   ]
  },
  {
   "cell_type": "code",
   "execution_count": 31,
   "metadata": {
    "scrolled": true
   },
   "outputs": [
    {
     "data": {
      "text/plain": [
       "<matplotlib.axes._subplots.AxesSubplot at 0x23645af0400>"
      ]
     },
     "execution_count": 31,
     "metadata": {},
     "output_type": "execute_result"
    },
    {
     "data": {
      "image/png": "[encoded data removed]",
      "text/plain": [
       "<Figure size 432x288 with 2 Axes>"
      ]
     },
     "metadata": {
      "needs_background": "light"
     },
     "output_type": "display_data"
    }
   ],
   "source": [
    "X_y = building_subset[[\"estprojectcost\",\"issueddate_yr\"]]\n",
    "corr = X_y.corr()\n",
    "sns.heatmap(corr, \n",
    "            xticklabels=corr.columns.values,\n",
    "            yticklabels=corr.columns.values)"
   ]
  },
  {
   "cell_type": "markdown",
   "metadata": {},
   "source": [
    "### The corelation plot shows least amount of relation between issue date and estimated project cost. So the linear regression will have high error"
   ]
  },
  {
   "cell_type": "code",
   "execution_count": 32,
   "metadata": {},
   "outputs": [
    {
     "data": {
      "text/html": [
       "<table class=\"simpletable\">\n",
       "<caption>OLS Regression Results</caption>\n",
       "<tr>\n",
       "  <th>Dep. Variable:</th>     <td>estprojectcost</td>  <th>  R-squared (uncentered):</th>       <td>   0.055</td>  \n",
       "</tr>\n",
       "<tr>\n",
       "  <th>Model:</th>                   <td>OLS</td>       <th>  Adj. R-squared (uncentered):</th>  <td>   0.055</td>  \n",
       "</tr>\n",
       "<tr>\n",
       "  <th>Method:</th>             <td>Least Squares</td>  <th>  F-statistic:       </th>           <td>   1820.</td>  \n",
       "</tr>\n",
       "<tr>\n",
       "  <th>Date:</th>             <td>Wed, 09 Oct 2019</td> <th>  Prob (F-statistic):</th>            <td>  0.00</td>   \n",
       "</tr>\n",
       "<tr>\n",
       "  <th>Time:</th>                 <td>10:29:11</td>     <th>  Log-Likelihood:    </th>          <td>-4.6901e+05</td>\n",
       "</tr>\n",
       "<tr>\n",
       "  <th>No. Observations:</th>      <td> 31056</td>      <th>  AIC:               </th>           <td>9.380e+05</td> \n",
       "</tr>\n",
       "<tr>\n",
       "  <th>Df Residuals:</th>          <td> 31055</td>      <th>  BIC:               </th>           <td>9.380e+05</td> \n",
       "</tr>\n",
       "<tr>\n",
       "  <th>Df Model:</th>              <td>     1</td>      <th>                     </th>               <td> </td>     \n",
       "</tr>\n",
       "<tr>\n",
       "  <th>Covariance Type:</th>      <td>nonrobust</td>    <th>                     </th>               <td> </td>     \n",
       "</tr>\n",
       "</table>\n",
       "<table class=\"simpletable\">\n",
       "<tr>\n",
       "        <td></td>           <th>coef</th>     <th>std err</th>      <th>t</th>      <th>P>|t|</th>  <th>[0.025</th>    <th>0.975]</th>  \n",
       "</tr>\n",
       "<tr>\n",
       "  <th>issueddate_yr</th> <td>  105.6052</td> <td>    2.475</td> <td>   42.667</td> <td> 0.000</td> <td>  100.754</td> <td>  110.457</td>\n",
       "</tr>\n",
       "</table>\n",
       "<table class=\"simpletable\">\n",
       "<tr>\n",
       "  <th>Omnibus:</th>       <td>122958.473</td> <th>  Durbin-Watson:     </th>     <td>   1.897</td>    \n",
       "</tr>\n",
       "<tr>\n",
       "  <th>Prob(Omnibus):</th>   <td> 0.000</td>   <th>  Jarque-Bera (JB):  </th> <td>155776531083.867</td>\n",
       "</tr>\n",
       "<tr>\n",
       "  <th>Skew:</th>            <td>99.138</td>   <th>  Prob(JB):          </th>     <td>    0.00</td>    \n",
       "</tr>\n",
       "<tr>\n",
       "  <th>Kurtosis:</th>       <td>10973.160</td> <th>  Cond. No.          </th>     <td>    1.00</td>    \n",
       "</tr>\n",
       "</table><br/><br/>Warnings:<br/>[1] Standard Errors assume that the covariance matrix of the errors is correctly specified."
      ],
      "text/plain": [
       "<class 'statsmodels.iolib.summary.Summary'>\n",
       "\"\"\"\n",
       "                                 OLS Regression Results                                \n",
       "=======================================================================================\n",
       "Dep. Variable:         estprojectcost   R-squared (uncentered):                   0.055\n",
       "Model:                            OLS   Adj. R-squared (uncentered):              0.055\n",
       "Method:                 Least Squares   F-statistic:                              1820.\n",
       "Date:                Wed, 09 Oct 2019   Prob (F-statistic):                        0.00\n",
       "Time:                        10:29:11   Log-Likelihood:                     -4.6901e+05\n",
       "No. Observations:               31056   AIC:                                  9.380e+05\n",
       "Df Residuals:                   31055   BIC:                                  9.380e+05\n",
       "Df Model:                           1                                                  \n",
       "Covariance Type:            nonrobust                                                  \n",
       "=================================================================================\n",
       "                    coef    std err          t      P>|t|      [0.025      0.975]\n",
       "---------------------------------------------------------------------------------\n",
       "issueddate_yr   105.6052      2.475     42.667      0.000     100.754     110.457\n",
       "==============================================================================\n",
       "Omnibus:                   122958.473   Durbin-Watson:                   1.897\n",
       "Prob(Omnibus):                  0.000   Jarque-Bera (JB):     155776531083.867\n",
       "Skew:                          99.138   Prob(JB):                         0.00\n",
       "Kurtosis:                   10973.160   Cond. No.                         1.00\n",
       "==============================================================================\n",
       "\n",
       "Warnings:\n",
       "[1] Standard Errors assume that the covariance matrix of the errors is correctly specified.\n",
       "\"\"\""
      ]
     },
     "execution_count": 32,
     "metadata": {},
     "output_type": "execute_result"
    },
    {
     "data": {
      "image/png": "[encoded data removed]",
      "text/plain": [
       "<Figure size 864x360 with 1 Axes>"
      ]
     },
     "metadata": {
      "needs_background": "light"
     },
     "output_type": "display_data"
    }
   ],
   "source": [
    "#fitting a model\n",
    "model_fit = sm.OLS(X_y.estprojectcost,X_y.issueddate_yr).fit()\n",
    "plt.figure(figsize=(12,5))\n",
    "sns.regplot(X_y.issueddate_yr, X_y.estprojectcost)\n",
    "model_fit.summary()"
   ]
  },
  {
   "cell_type": "markdown",
   "metadata": {},
   "source": [
    "#### <font color='green'>Analysis from Output </font>\n",
    "\n",
    "##### We see the Adj- R2 value is 0.055 which means there is just 5 % explainability of Estimated project cost from issue data year.\n",
    "Hence lets improve data by a bit and re-apply the regression\n",
    "\n",
    "The above plot shows the regression line and can conclude that the line seems horizontal as the Y axis  range is soo huge that the line although has positive slope we are unable to view. So removing outliers will make it more clear"
   ]
  },
  {
   "cell_type": "markdown",
   "metadata": {},
   "source": [
    "#### Outlier Removal:Removing the rows having estimated project cost value greater than Three Inter-Quartile Range\n",
    "This is because the outlier skew linear regression equation and increases the error.\n",
    "\n",
    "Also in real world the frequency of outliers will be less when compared with normal other data points\n",
    "\n",
    "So removing  outliers (high leverage points) is the best thing to have a **generalized model**"
   ]
  },
  {
   "cell_type": "code",
   "execution_count": 33,
   "metadata": {},
   "outputs": [],
   "source": [
    "# I chose 3*IQR dollar as the threshold cause from the above scatter plot I see three points which have value greater than 200000\n",
    "#There are different ways to remove outliers based on threshold \n",
    "# 1. Cooks distance\n",
    "# 2. Inter quartile range\n",
    "# 3. Z-score\n",
    "Q1 = building_subset.estprojectcost.quantile(0.25)\n",
    "Q3 = building_subset.estprojectcost.quantile(0.75)\n",
    "IQR = Q3 - Q1\n",
    "building_subset = building_subset[building_subset.estprojectcost < 3*IQR]"
   ]
  },
  {
   "cell_type": "code",
   "execution_count": 34,
   "metadata": {},
   "outputs": [
    {
     "data": {
      "text/plain": [
       "158068.0"
      ]
     },
     "execution_count": 34,
     "metadata": {},
     "output_type": "execute_result"
    }
   ],
   "source": [
    "IQR"
   ]
  },
  {
   "cell_type": "code",
   "execution_count": 35,
   "metadata": {
    "scrolled": true
   },
   "outputs": [
    {
     "data": {
      "text/plain": [
       "<matplotlib.axes._subplots.AxesSubplot at 0x23645f92240>"
      ]
     },
     "execution_count": 35,
     "metadata": {},
     "output_type": "execute_result"
    },
    {
     "data": {
      "image/png": "[encoded data removed]",
      "text/plain": [
       "<Figure size 432x288 with 1 Axes>"
      ]
     },
     "metadata": {
      "needs_background": "light"
     },
     "output_type": "display_data"
    }
   ],
   "source": [
    "sns.distplot(building_subset.estprojectcost)\n",
    "#This plot shows a skewed right distribution\n",
    "#Although we expect data to be normally distributed, it is not the case in real world"
   ]
  },
  {
   "cell_type": "code",
   "execution_count": 36,
   "metadata": {},
   "outputs": [],
   "source": [
    "X = building_subset[[\"issueddate_yr\"]]\n",
    "y = building_subset[[\"estprojectcost\"]]\n",
    "X_train, X_test ,y_train, y_test = train_test_split(X, y, test_size=0.20, random_state=42)"
   ]
  },
  {
   "cell_type": "code",
   "execution_count": null,
   "metadata": {},
   "outputs": [],
   "source": [
    "X_y = building_subset[[\"estprojectcost\",\"issueddate_yr\"]]\n",
    "corr = X_y.corr()\n",
    "sns.heatmap(corr, \n",
    "            xticklabels=corr.columns.values,\n",
    "            yticklabels=corr.columns.values)"
   ]
  },
  {
   "cell_type": "code",
   "execution_count": 37,
   "metadata": {
    "scrolled": true
   },
   "outputs": [
    {
     "name": "stdout",
     "output_type": "stream",
     "text": [
      "Linear regression line on data\n"
     ]
    },
    {
     "data": {
      "image/png": "[encoded data removed]",
      "text/plain": [
       "<Figure size 576x360 with 1 Axes>"
      ]
     },
     "metadata": {
      "needs_background": "light"
     },
     "output_type": "display_data"
    }
   ],
   "source": [
    "try:\n",
    "    plt.figure(figsize=(8,5))\n",
    "    sns.regplot(X_train, y_train)\n",
    "except ValueError:\n",
    "    print(\"Linear regression line on data\")"
   ]
  },
  {
   "cell_type": "code",
   "execution_count": 38,
   "metadata": {},
   "outputs": [
    {
     "data": {
      "text/html": [
       "<table class=\"simpletable\">\n",
       "<caption>OLS Regression Results</caption>\n",
       "<tr>\n",
       "  <th>Dep. Variable:</th>     <td>estprojectcost</td>  <th>  R-squared (uncentered):</th>       <td>   0.750</td>  \n",
       "</tr>\n",
       "<tr>\n",
       "  <th>Model:</th>                   <td>OLS</td>       <th>  Adj. R-squared (uncentered):</th>  <td>   0.750</td>  \n",
       "</tr>\n",
       "<tr>\n",
       "  <th>Method:</th>             <td>Least Squares</td>  <th>  F-statistic:       </th>           <td>7.029e+04</td> \n",
       "</tr>\n",
       "<tr>\n",
       "  <th>Date:</th>             <td>Wed, 09 Oct 2019</td> <th>  Prob (F-statistic):</th>            <td>  0.00</td>   \n",
       "</tr>\n",
       "<tr>\n",
       "  <th>Time:</th>                 <td>10:29:19</td>     <th>  Log-Likelihood:    </th>          <td>-3.0386e+05</td>\n",
       "</tr>\n",
       "<tr>\n",
       "  <th>No. Observations:</th>      <td> 23489</td>      <th>  AIC:               </th>           <td>6.077e+05</td> \n",
       "</tr>\n",
       "<tr>\n",
       "  <th>Df Residuals:</th>          <td> 23488</td>      <th>  BIC:               </th>           <td>6.077e+05</td> \n",
       "</tr>\n",
       "<tr>\n",
       "  <th>Df Model:</th>              <td>     1</td>      <th>                     </th>               <td> </td>     \n",
       "</tr>\n",
       "<tr>\n",
       "  <th>Covariance Type:</th>      <td>nonrobust</td>    <th>                     </th>               <td> </td>     \n",
       "</tr>\n",
       "</table>\n",
       "<table class=\"simpletable\">\n",
       "<tr>\n",
       "        <td></td>           <th>coef</th>     <th>std err</th>      <th>t</th>      <th>P>|t|</th>  <th>[0.025</th>    <th>0.975]</th>  \n",
       "</tr>\n",
       "<tr>\n",
       "  <th>issueddate_yr</th> <td>   86.5210</td> <td>    0.326</td> <td>  265.120</td> <td> 0.000</td> <td>   85.881</td> <td>   87.161</td>\n",
       "</tr>\n",
       "</table>\n",
       "<table class=\"simpletable\">\n",
       "<tr>\n",
       "  <th>Omnibus:</th>       <td>2515.921</td> <th>  Durbin-Watson:     </th> <td>   2.004</td>\n",
       "</tr>\n",
       "<tr>\n",
       "  <th>Prob(Omnibus):</th>  <td> 0.000</td>  <th>  Jarque-Bera (JB):  </th> <td>3423.281</td>\n",
       "</tr>\n",
       "<tr>\n",
       "  <th>Skew:</th>           <td> 0.933</td>  <th>  Prob(JB):          </th> <td>    0.00</td>\n",
       "</tr>\n",
       "<tr>\n",
       "  <th>Kurtosis:</th>       <td> 3.121</td>  <th>  Cond. No.          </th> <td>    1.00</td>\n",
       "</tr>\n",
       "</table><br/><br/>Warnings:<br/>[1] Standard Errors assume that the covariance matrix of the errors is correctly specified."
      ],
      "text/plain": [
       "<class 'statsmodels.iolib.summary.Summary'>\n",
       "\"\"\"\n",
       "                                 OLS Regression Results                                \n",
       "=======================================================================================\n",
       "Dep. Variable:         estprojectcost   R-squared (uncentered):                   0.750\n",
       "Model:                            OLS   Adj. R-squared (uncentered):              0.750\n",
       "Method:                 Least Squares   F-statistic:                          7.029e+04\n",
       "Date:                Wed, 09 Oct 2019   Prob (F-statistic):                        0.00\n",
       "Time:                        10:29:19   Log-Likelihood:                     -3.0386e+05\n",
       "No. Observations:               23489   AIC:                                  6.077e+05\n",
       "Df Residuals:                   23488   BIC:                                  6.077e+05\n",
       "Df Model:                           1                                                  \n",
       "Covariance Type:            nonrobust                                                  \n",
       "=================================================================================\n",
       "                    coef    std err          t      P>|t|      [0.025      0.975]\n",
       "---------------------------------------------------------------------------------\n",
       "issueddate_yr    86.5210      0.326    265.120      0.000      85.881      87.161\n",
       "==============================================================================\n",
       "Omnibus:                     2515.921   Durbin-Watson:                   2.004\n",
       "Prob(Omnibus):                  0.000   Jarque-Bera (JB):             3423.281\n",
       "Skew:                           0.933   Prob(JB):                         0.00\n",
       "Kurtosis:                       3.121   Cond. No.                         1.00\n",
       "==============================================================================\n",
       "\n",
       "Warnings:\n",
       "[1] Standard Errors assume that the covariance matrix of the errors is correctly specified.\n",
       "\"\"\""
      ]
     },
     "execution_count": 38,
     "metadata": {},
     "output_type": "execute_result"
    }
   ],
   "source": [
    "#fitting a model\n",
    "model_fit = sm.OLS(y_train,X_train).fit()\n",
    "# Print out the statistics\n",
    "model_fit.summary()"
   ]
  },
  {
   "cell_type": "code",
   "execution_count": 39,
   "metadata": {},
   "outputs": [
    {
     "name": "stdout",
     "output_type": "stream",
     "text": [
      "Mean Squared Error on train dataset : 10088785701.383757\n",
      "Mean Squared Error on test dataset : 9960781424.554575\n"
     ]
    }
   ],
   "source": [
    "#Model Error\n",
    "y_train_pred = model_fit.predict(X_train)\n",
    "y_test_pred = model_fit.predict(X_test)\n",
    "print('Mean Squared Error on train dataset :', metrics.mean_squared_error(y_train.estprojectcost, y_train_pred)) \n",
    "print('Mean Squared Error on test dataset :', metrics.mean_squared_error(y_test.estprojectcost, y_test_pred)) "
   ]
  },
  {
   "cell_type": "markdown",
   "metadata": {},
   "source": [
    "Mean Squared Error of GBM on train dataset : 1603198216.8985007\n",
    "Mean Squared Error of GBMon test dataset : 1650848128.4691439"
   ]
  },
  {
   "cell_type": "markdown",
   "metadata": {},
   "source": [
    "Mean Squared Error of GBM on train dataset : 1125513024.294395\n",
    "Mean Squared Error of GBMon test dataset : 1490281399.6429393"
   ]
  },
  {
   "cell_type": "markdown",
   "metadata": {},
   "source": [
    "### <font color='green'>Analysis from Output </font>\n",
    "\n",
    "It is surprising to see that the column estimated project cost has 88% explainablity by issuedate_yr (the adjusted R-square).\n",
    "Although Adj-R2 is high we should not rely on it. Let's check the errors model made on train and test dataset\n",
    "\n",
    "**With every increase in year the estimated project cost increases by 56.55 $**. This means the estimated project cost rate is 56.55 per year and keeps positively progressing every year\n",
    "\n",
    "The p-value:0 shows that the column issuedate_yr is important and has weightage in predicting the estimated project cost.\n",
    "\n",
    "The confidence interval shows that the estimated project cost can increase in between 56.237 and 56.830 $\n",
    "\n",
    "#### <font color='red'>Model Error</font>\n",
    "The mean square error on training dataset is 1659425361. which is very high. We would expect the error.\n",
    "The concluion is that the model did not fit well with the values and cannot be deployed.\n",
    "As the model did not perform well on trainig dataset. It is bound to have high testing error i.e 1712748110.\n"
   ]
  },
  {
   "cell_type": "markdown",
   "metadata": {},
   "source": [
    "### The model is created in an assumption that the data obeys three important simple linear properties:\n",
    "    1. There is a linear relationship between independent and dependent variables\n",
    "    2. The errors follow a normal distribution\n",
    "    3. Data is homoscedastic (it follows equality of variance)\n",
    "    \n",
    "Let's see how well is the data validating these assumptions"
   ]
  },
  {
   "cell_type": "markdown",
   "metadata": {},
   "source": [
    "### <font color='orange'>Assumption: Relationship between independent and dependent variables</font> "
   ]
  },
  {
   "cell_type": "code",
   "execution_count": 42,
   "metadata": {},
   "outputs": [
    {
     "data": {
      "text/plain": [
       "(1995, 2025)"
      ]
     },
     "execution_count": 42,
     "metadata": {},
     "output_type": "execute_result"
    },
    {
     "data": {
      "image/png": "[encoded data removed]",
      "text/plain": [
       "<Figure size 720x432 with 1 Axes>"
      ]
     },
     "metadata": {
      "needs_background": "light"
     },
     "output_type": "display_data"
    }
   ],
   "source": [
    "model_fitted_y = model_fit.fittedvalues\n",
    "model_residuals = model_fit.resid\n",
    "model_norm_residuals = model_fit.get_influence().resid_studentized_internal\n",
    "model_norm_residuals_abs_sqrt = np.sqrt(np.abs(model_norm_residuals))\n",
    "model_abs_resid = np.abs(model_residuals)\n",
    "model_leverage = model_fit.get_influence().hat_matrix_diag\n",
    "plt.figure(figsize=(10,6))\n",
    "ax = sns.scatterplot(building_subset.issueddate_yr, building_subset.estprojectcost)\n",
    "ax.set_xlim(1995,2025)"
   ]
  },
  {
   "cell_type": "markdown",
   "metadata": {},
   "source": [
    "### <font color='green'>Analysis from graph </font>\n",
    "\n",
    "From the above scattered plot I conclude that the data is not acceptable as linear. So we rule out the first assumption: there is a linear relationship between independent and dependent variable"
   ]
  },
  {
   "cell_type": "markdown",
   "metadata": {},
   "source": [
    "### <font color='orange'>Assumption: Errors follow a normal distribution</font> "
   ]
  },
  {
   "cell_type": "code",
   "execution_count": 43,
   "metadata": {},
   "outputs": [
    {
     "data": {
      "image/png": "[encoded data removed]",
      "text/plain": [
       "<Figure size 576x432 with 1 Axes>"
      ]
     },
     "metadata": {
      "needs_background": "light"
     },
     "output_type": "display_data"
    }
   ],
   "source": [
    "QQ = ProbPlot(model_norm_residuals)\n",
    "plot_lm_2 = QQ.qqplot(line='45', alpha=0.5, color='#4C72B0', lw=1)\n",
    "\n",
    "plot_lm_2.set_figheight(6)\n",
    "plot_lm_2.set_figwidth(8)\n",
    "\n",
    "plot_lm_2.axes[0].set_title('Normal Q-Q')\n",
    "plot_lm_2.axes[0].set_xlabel('Theoretical Quantiles')\n",
    "plot_lm_2.axes[0].set_ylabel('Standardized Residuals');\n",
    "\n",
    "# annotations\n",
    "abs_norm_resid = np.flip(np.argsort(np.abs(model_norm_residuals)), 0)\n",
    "abs_norm_resid_top_3 = abs_norm_resid[:3]\n",
    "\n",
    "for r, i in enumerate(abs_norm_resid_top_3):\n",
    "    plot_lm_2.axes[0].annotate(i, \n",
    "                               xy=(np.flip(QQ.theoretical_quantiles, 0)[r],\n",
    "                                   model_norm_residuals[i]));"
   ]
  },
  {
   "cell_type": "markdown",
   "metadata": {},
   "source": [
    "### <font color='green'>Analysis from Output </font>\n",
    "\n",
    "The plot shows that the errors are not normally distributed (by looking at the curve extremes"
   ]
  },
  {
   "cell_type": "markdown",
   "metadata": {},
   "source": [
    "### <font color='orange'>Assumption: Residuals have Equality of Variance </font> "
   ]
  },
  {
   "cell_type": "code",
   "execution_count": 44,
   "metadata": {},
   "outputs": [
    {
     "data": {
      "image/png": "[encoded data removed]",
      "text/plain": [
       "<Figure size 576x432 with 1 Axes>"
      ]
     },
     "metadata": {
      "needs_background": "light"
     },
     "output_type": "display_data"
    }
   ],
   "source": [
    "plot_lm_1 = plt.figure(1)\n",
    "plot_lm_1.set_figheight(6)\n",
    "plot_lm_1.set_figwidth(8)\n",
    "\n",
    "plot_lm_1.axes[0] = sns.residplot(model_fitted_y, y_train.estprojectcost, data=y_train, \n",
    "                          lowess=True, \n",
    "                          scatter_kws={'alpha': 0.5}, \n",
    "                          line_kws={'color': 'red', 'lw': 1, 'alpha': 0.8})\n",
    "\n",
    "plot_lm_1.axes[0].set_title('Residuals vs Fitted')\n",
    "plot_lm_1.axes[0].set_xlabel('Fitted values')\n",
    "plot_lm_1.axes[0].set_ylabel('Residuals')\n",
    "\n",
    "# annotations\n",
    "abs_resid = model_abs_resid.sort_values(ascending=False)\n",
    "abs_resid_top_3 = abs_resid[:3]\n",
    "\n",
    "for i in abs_resid_top_3.index:\n",
    "    plot_lm_1.axes[0].annotate(i, \n",
    "                               xy=(model_fitted_y[i], \n",
    "                                   model_residuals[i]));"
   ]
  },
  {
   "cell_type": "markdown",
   "metadata": {},
   "source": [
    "### <font color='green'>Analysis from Output </font>\n",
    "\n",
    "As we have many data points the residuals vs fitted is very broad and the errors are not normally distributed.\n",
    "The assumption of equal variance can also be rejected."
   ]
  },
  {
   "cell_type": "markdown",
   "metadata": {},
   "source": [
    "# <font color='red'>FINAL ANALYSIS</font>\n",
    "\n",
    "**With every increase in year the estimated project cost increases by 56.55 $**\n",
    "\n",
    "    The column issueddate_yr is important in predicting the estprojectcost. Although, the estprojcost is directly             proportinal (positively related) to issueddate_yr (which means development & progress). It is not enough to rely on its predictions\n",
    "    \n",
    "   From the error metrics I conclude that **this model cannot be used to predict estprojectcost with least error** (Maybe by combining other features a roboust one can be created)\n"
   ]
  },
  {
   "cell_type": "markdown",
   "metadata": {},
   "source": [
    "### 6. What additional techniques or methodologies could be used to improve the results from the previous step? \n",
    "\n",
    "I believe understanding all different columns, creating new features, using stronger predicition models (like Random Forest, Boosting algorithms) will increase likelihood of having less error model.\n",
    "\n",
    "Also, addressing this as Time series might solve in predicting"
   ]
  },
  {
   "cell_type": "code",
   "execution_count": 45,
   "metadata": {},
   "outputs": [
    {
     "data": {
      "text/html": [
       "<div>\n",
       "<style scoped>\n",
       "    .dataframe tbody tr th:only-of-type {\n",
       "        vertical-align: middle;\n",
       "    }\n",
       "\n",
       "    .dataframe tbody tr th {\n",
       "        vertical-align: top;\n",
       "    }\n",
       "\n",
       "    .dataframe thead th {\n",
       "        text-align: right;\n",
       "    }\n",
       "</style>\n",
       "<table border=\"1\" class=\"dataframe\">\n",
       "  <thead>\n",
       "    <tr style=\"text-align: right;\">\n",
       "      <th></th>\n",
       "      <th>issueddate_yr</th>\n",
       "      <th>estprojectcost</th>\n",
       "    </tr>\n",
       "  </thead>\n",
       "  <tbody>\n",
       "    <tr>\n",
       "      <td>count</td>\n",
       "      <td>138519.000000</td>\n",
       "      <td>1.419530e+05</td>\n",
       "    </tr>\n",
       "    <tr>\n",
       "      <td>mean</td>\n",
       "      <td>2008.795176</td>\n",
       "      <td>1.920127e+05</td>\n",
       "    </tr>\n",
       "    <tr>\n",
       "      <td>std</td>\n",
       "      <td>5.486947</td>\n",
       "      <td>1.493678e+06</td>\n",
       "    </tr>\n",
       "    <tr>\n",
       "      <td>min</td>\n",
       "      <td>2000.000000</td>\n",
       "      <td>0.000000e+00</td>\n",
       "    </tr>\n",
       "    <tr>\n",
       "      <td>25%</td>\n",
       "      <td>2004.000000</td>\n",
       "      <td>1.000000e+04</td>\n",
       "    </tr>\n",
       "    <tr>\n",
       "      <td>50%</td>\n",
       "      <td>2008.000000</td>\n",
       "      <td>5.440400e+04</td>\n",
       "    </tr>\n",
       "    <tr>\n",
       "      <td>75%</td>\n",
       "      <td>2014.000000</td>\n",
       "      <td>1.350000e+05</td>\n",
       "    </tr>\n",
       "    <tr>\n",
       "      <td>max</td>\n",
       "      <td>2018.000000</td>\n",
       "      <td>1.700000e+08</td>\n",
       "    </tr>\n",
       "  </tbody>\n",
       "</table>\n",
       "</div>"
      ],
      "text/plain": [
       "       issueddate_yr  estprojectcost\n",
       "count  138519.000000    1.419530e+05\n",
       "mean     2008.795176    1.920127e+05\n",
       "std         5.486947    1.493678e+06\n",
       "min      2000.000000    0.000000e+00\n",
       "25%      2004.000000    1.000000e+04\n",
       "50%      2008.000000    5.440400e+04\n",
       "75%      2014.000000    1.350000e+05\n",
       "max      2018.000000    1.700000e+08"
      ]
     },
     "execution_count": 45,
     "metadata": {},
     "output_type": "execute_result"
    }
   ],
   "source": [
    "cons_data[\"issueddate_yr\"] = date_columns[\"issueddate_yr\"]\n",
    "cons_data[[\"issueddate_yr\",\"estprojectcost\"]].describe()"
   ]
  },
  {
   "cell_type": "markdown",
   "metadata": {},
   "source": [
    "### Few more Insights\n",
    "\n",
    "    1. More number of sanctions in 8 years between 2000 to 2008 than from 2008 to 2018 which is 10 years\n",
    "    2. The distribution plot shows that this column is highly skewed to right. Which means there are constructions\n",
    "    that cost a lot more than others.\n",
    "\n",
    "\n",
    "### Aspects to dig further\n",
    "    1. NA value threshold can be taken as 3*IQR which is 158 thousand dollars instead of 200 thousand dollars\n",
    "    2. plot the type of houses in a map with which we can strategically plan fire engine placement \n",
    "    3. Understand the outliers by looking at their values\n",
    "    4. Do some NLP from the description and then new create formulas based on words to use it in model\n",
    "    5. If the type of constructor has levels, like a specific team who work only on residential housing and other team only \n",
    "       on commercial construction etc.\n",
    "    6. Some type of clustering based on location\n",
    "    7. Create separate models for residential units and commercials\n",
    "    8. Normalizing and using logarithmic transformations\n",
    "    9. The type of Train test split.\n",
    "\n",
    "\n",
    "Can use the following features:\n",
    "\n",
    "    1. total sqft\n",
    "    2. Number of stories\n",
    "    3. parking space\n",
    "    4. permit type\n",
    "    5. street type\n",
    "    6. work class\n",
    "    7. construction type\n",
    "    8. occupancy class constant "
   ]
  },
  {
   "cell_type": "code",
   "execution_count": 50,
   "metadata": {},
   "outputs": [
    {
     "data": {
      "text/plain": [
       "GradientBoostingRegressor(alpha=0.01, criterion='friedman_mse', init=None,\n",
       "                          learning_rate=0.1, loss='ls', max_depth=3,\n",
       "                          max_features=None, max_leaf_nodes=None,\n",
       "                          min_impurity_decrease=0.0, min_impurity_split=None,\n",
       "                          min_samples_leaf=1, min_samples_split=2,\n",
       "                          min_weight_fraction_leaf=0.0, n_estimators=4000,\n",
       "                          n_iter_no_change=None, presort='auto',\n",
       "                          random_state=None, subsample=1.0, tol=0.0001,\n",
       "                          validation_fraction=0.1, verbose=0, warm_start=False)"
      ]
     },
     "execution_count": 50,
     "metadata": {},
     "output_type": "execute_result"
    },
    {
     "data": {
      "image/png": "[encoded data removed]",
      "text/plain": [
       "<Figure size 864x432 with 1 Axes>"
      ]
     },
     "metadata": {
      "needs_background": "light"
     },
     "output_type": "display_data"
    },
    {
     "data": {
      "image/png": "[encoded data removed]",
      "text/plain": [
       "<Figure size 1584x648 with 1 Axes>"
      ]
     },
     "metadata": {
      "needs_background": "light"
     },
     "output_type": "display_data"
    },
    {
     "data": {
      "image/png": "[encoded data removed]",
      "text/plain": [
       "<Figure size 576x432 with 2 Axes>"
      ]
     },
     "metadata": {
      "needs_background": "light"
     },
     "output_type": "display_data"
    }
   ],
   "source": [
    "just_another_model = backup_data[[\"estprojectcost\",\"issueddate_yr\", \"totalsqft\", \"numberstories\",\n",
    "                              \"parc_open_space_zone_fee\", \"streettype\",\n",
    "                               \"workclass\", \"const_type\", \"occupancyclass\"]]\n",
    "\n",
    "#Lets remove outliers\n",
    "Q1 = just_another_model.totalsqft.quantile(0.25)\n",
    "Q3 = just_another_model.totalsqft.quantile(0.75)\n",
    "IQR = Q3 - Q1\n",
    "just_another_model = just_another_model[just_another_model.totalsqft < 3*IQR]\n",
    "\n",
    "#this has outliers, so lets remove them based on the z score\n",
    "plt.figure(figsize=(12,6))\n",
    "sns.scatterplot(just_another_model.totalsqft, just_another_model.estprojectcost)\n",
    "\n",
    "\n",
    "just_another_model = just_another_model[just_another_model.numberstories < 33]\n",
    "\n",
    "just_another_model.dropna(inplace=True)\n",
    "\n",
    "#Lets remove outliers\n",
    "Q1 = just_another_model.estprojectcost.quantile(0.25)\n",
    "Q3 = just_another_model.estprojectcost.quantile(0.75)\n",
    "IQR = Q3 - Q1\n",
    "just_another_model = just_another_model[just_another_model.estprojectcost < 3*IQR]\n",
    "\n",
    "plt.figure(figsize=(22,9))\n",
    "sns.barplot(x=just_another_model.numberstories,  hue=just_another_model.parc_open_space_zone_fee,\n",
    "            y= just_another_model.estprojectcost)\n",
    "\n",
    "\n",
    "plt.figure(figsize=(8,6))\n",
    "# calculate the correlation matrix\n",
    "corr = just_another_model.corr()\n",
    "\n",
    "# plot the heatmap\n",
    "sns.heatmap(corr)\n",
    "\n",
    "factors = [\"streettype\", \"workclass\", \"const_type\", \"occupancyclass\"]\n",
    "\n",
    "for var in factors:\n",
    "    just_another_model[var] = just_another_model[var].astype(\"category\")\n",
    "    \n",
    "    \n",
    "dummies_dataset = pd.get_dummies(just_another_model)\n",
    "\n",
    "\n",
    "X = dummies_dataset.drop('estprojectcost',1)\n",
    "y = dummies_dataset['estprojectcost']\n",
    "\n",
    "#take fixed holdout set 30% of data rows\n",
    "xTrain, xTest, yTrain, yTest = train_test_split(X, y, test_size=0.30,random_state=531)\n",
    "\n",
    "from sklearn.ensemble import GradientBoostingRegressor\n",
    "\n",
    "gbm = GradientBoostingRegressor(n_estimators=4000,alpha=0.01); ### Test 0.41\n",
    "#initiating the gradient boosting with 4000 iterations and learning rate=0.01\n",
    "\n",
    "gbm.fit(xTrain,yTrain)\n",
    "#fittinng the model"
   ]
  },
  {
   "cell_type": "code",
   "execution_count": 52,
   "metadata": {},
   "outputs": [
    {
     "data": {
      "text/plain": [
       "2.0     56730\n",
       "1.0     36230\n",
       "3.0      9592\n",
       "4.0      1235\n",
       "0.0      1201\n",
       "5.0       974\n",
       "6.0       549\n",
       "7.0       390\n",
       "17.0      228\n",
       "10.0      202\n",
       "14.0      110\n",
       "12.0       94\n",
       "16.0       78\n",
       "29.0       70\n",
       "28.0       69\n",
       "11.0       53\n",
       "15.0       50\n",
       "8.0        34\n",
       "9.0        33\n",
       "32.0       28\n",
       "21.0       26\n",
       "19.0       26\n",
       "13.0       25\n",
       "18.0       19\n",
       "30.0       14\n",
       "23.0        9\n",
       "20.0        8\n",
       "22.0        7\n",
       "27.0        2\n",
       "26.0        1\n",
       "31.0        1\n",
       "Name: numberstories, dtype: int64"
      ]
     },
     "execution_count": 52,
     "metadata": {},
     "output_type": "execute_result"
    }
   ],
   "source": [
    "just_another_model.numberstories.value_counts()"
   ]
  },
  {
   "cell_type": "code",
   "execution_count": 53,
   "metadata": {},
   "outputs": [
    {
     "data": {
      "text/plain": [
       "4.0    33123\n",
       "2.0    30026\n",
       "1.0    29725\n",
       "3.0    15210\n",
       "0.0        4\n",
       "Name: parc_open_space_zone_fee, dtype: int64"
      ]
     },
     "execution_count": 53,
     "metadata": {},
     "output_type": "execute_result"
    }
   ],
   "source": [
    "just_another_model.parc_open_space_zone_fee.value_counts()"
   ]
  },
  {
   "cell_type": "code",
   "execution_count": 54,
   "metadata": {
    "scrolled": true
   },
   "outputs": [
    {
     "data": {
      "text/plain": [
       "DR      30294\n",
       "RD      16965\n",
       "ST      15163\n",
       "LN      10808\n",
       "CT      10643\n",
       "AVE      5808\n",
       "WY       4293\n",
       "PL       3788\n",
       "BLVD     2149\n",
       "WAY      2077\n",
       "CIR      1977\n",
       "TRL      1824\n",
       "RUN       422\n",
       "PKWY      421\n",
       "WYND      170\n",
       "SQ        154\n",
       "MALL      133\n",
       "          132\n",
       "LOOP      115\n",
       "TER       111\n",
       "PT        108\n",
       "PATH      100\n",
       "CRES       83\n",
       "CRSG       74\n",
       "WALK       73\n",
       "ALY        52\n",
       "PARK       38\n",
       "PLZ        28\n",
       "ROW        25\n",
       "CV         21\n",
       "PASS       15\n",
       "DOWN       10\n",
       "KNL         5\n",
       "LNDG        5\n",
       "RDG         2\n",
       "HL          1\n",
       "TURN        1\n",
       "Name: streettype, dtype: int64"
      ]
     },
     "execution_count": 54,
     "metadata": {},
     "output_type": "execute_result"
    }
   ],
   "source": [
    "just_another_model.streettype.value_counts()"
   ]
  },
  {
   "cell_type": "code",
   "execution_count": 55,
   "metadata": {},
   "outputs": [
    {
     "data": {
      "text/plain": [
       "New Building                       42566\n",
       "Alterations/repairs                29229\n",
       "Other                              13219\n",
       "Addition                            9278\n",
       "Interior Completion                 5213\n",
       "Demolish                            3652\n",
       "Detached Accessory Building         2163\n",
       "Alterations To A Shell - No C O      969\n",
       "Other - Resd                         852\n",
       "Change Of Use                        250\n",
       "Manufactured Home Replacement        130\n",
       "Other - Comm                         119\n",
       "Building Shell                       109\n",
       "ALTERATIONS/REPAIRS                   82\n",
       "Swimming Pool - Resd                  62\n",
       "Manufactured Home Original            46\n",
       "Cell Tower - Site                     42\n",
       "INTERIOR COMPLETION                   33\n",
       "Building Shell Addition               18\n",
       "Cell Tower - Building                 14\n",
       "NEW BUILDING                          12\n",
       "Foundation Only                       11\n",
       "Specialty                              8\n",
       "Swimming Pool - Commercial             7\n",
       "House Move                             1\n",
       "Mobile Home Replacement                1\n",
       "Non-construction Inspection            1\n",
       "OTHER                                  1\n",
       "Name: workclass, dtype: int64"
      ]
     },
     "execution_count": 55,
     "metadata": {},
     "output_type": "execute_result"
    }
   ],
   "source": [
    "just_another_model.workclass.value_counts()"
   ]
  },
  {
   "cell_type": "code",
   "execution_count": 56,
   "metadata": {},
   "outputs": [
    {
     "data": {
      "text/plain": [
       "V  B    76477\n",
       "VI U    16096\n",
       "II B     6894\n",
       "I  B     1819\n",
       "I  A     1368\n",
       "IIIB     1291\n",
       "II A     1264\n",
       "V  A     1013\n",
       "IV U     1004\n",
       "VI P      180\n",
       "II        178\n",
       "IV P      147\n",
       "V  U      115\n",
       "IV         79\n",
       "I          63\n",
       "IIIA       57\n",
       "V  P       29\n",
       "III        14\n",
       "Name: const_type, dtype: int64"
      ]
     },
     "execution_count": 56,
     "metadata": {},
     "output_type": "execute_result"
    }
   ],
   "source": [
    "just_another_model.const_type.value_counts()"
   ]
  },
  {
   "cell_type": "code",
   "execution_count": 57,
   "metadata": {},
   "outputs": [
    {
     "data": {
      "text/plain": [
       "RESIDENT 3  SFD/DUP     68578\n",
       "RESIDENT-SFD/DUPLEX     11883\n",
       "BUSINESS                 8513\n",
       "RESIDENTIAL 2            6301\n",
       "GROUP HOUSING            3681\n",
       "MERCANTILE               2198\n",
       "UTILITY                  1515\n",
       "ASSEMBLY 2               1327\n",
       "ASSEMBLY 3                762\n",
       "STORAGE 1                 748\n",
       "EDUCATIONAL               669\n",
       "INSTITUTIONAL 2           470\n",
       "STORAGE 2                 424\n",
       "RESIDENTIAL 1             221\n",
       "FACTORY 1                 200\n",
       "RESIDENTIAL 4             118\n",
       "ASSEMBLY SMALL            100\n",
       "ASSEMBLY 1                 77\n",
       "INSTITUTIONAL              59\n",
       "ASSEMBLY 4                 58\n",
       "FACTORY 2                  49\n",
       "ASSEMBLY 5                 47\n",
       "FACTORY/INDUSTRIAL         22\n",
       "ASSEMBLY LARGE             20\n",
       "INSTITUTIONAL 1            17\n",
       "INSTITUTIONAL 4             9\n",
       "HAZARDOUS 2                 7\n",
       "INSTITUTIONAL 3             7\n",
       "HAZARDOUS 3                 4\n",
       "HAZARDOUS 1                 2\n",
       "HAZARDOUS 4                 1\n",
       "A2 REST,BAR,BANQHALL        1\n",
       "Name: occupancyclass, dtype: int64"
      ]
     },
     "execution_count": 57,
     "metadata": {},
     "output_type": "execute_result"
    }
   ],
   "source": [
    "just_another_model.occupancyclass.value_counts()"
   ]
  },
  {
   "cell_type": "code",
   "execution_count": 48,
   "metadata": {},
   "outputs": [
    {
     "data": {
      "text/plain": [
       "estprojectcost                  0\n",
       "issueddate_yr                3434\n",
       "totalsqft                    5252\n",
       "numberstories               19511\n",
       "parc_open_space_zone_fee        4\n",
       "streettype                     11\n",
       "workclass                     360\n",
       "const_type                   7862\n",
       "occupancyclass               6589\n",
       "dtype: int64"
      ]
     },
     "execution_count": 48,
     "metadata": {},
     "output_type": "execute_result"
    }
   ],
   "source": [
    "just_another_model.isna().sum()"
   ]
  },
  {
   "cell_type": "code",
   "execution_count": 51,
   "metadata": {},
   "outputs": [
    {
     "name": "stdout",
     "output_type": "stream",
     "text": [
      "Mean Squared Error of GBM on train dataset : 1125513024.294395\n",
      "Mean Squared Error of GBMon test dataset : 1490281399.6429393\n"
     ]
    }
   ],
   "source": [
    "#Model Error\n",
    "y_train_pred = gbm.predict(xTrain)\n",
    "y_test_pred = gbm.predict(xTest)\n",
    "print('Mean Squared Error of GBM on train dataset :', metrics.mean_squared_error(yTrain, y_train_pred)) \n",
    "print('Mean Squared Error of GBMon test dataset :', metrics.mean_squared_error(yTest, y_test_pred)) "
   ]
  },
  {
   "cell_type": "code",
   "execution_count": null,
   "metadata": {},
   "outputs": [],
   "source": []
  },
  {
   "cell_type": "code",
   "execution_count": null,
   "metadata": {},
   "outputs": [],
   "source": []
  },
  {
   "cell_type": "code",
   "execution_count": null,
   "metadata": {},
   "outputs": [],
   "source": []
  },
  {
   "cell_type": "code",
   "execution_count": null,
   "metadata": {},
   "outputs": [],
   "source": []
  },
  {
   "cell_type": "code",
   "execution_count": null,
   "metadata": {},
   "outputs": [],
   "source": [
    "\n",
    "col_names = np.array(list(just_another_model))\n",
    "\n",
    "#take fixed holdout set 30% of data rows\n",
    "xTrain, xTest, yTrain, yTest = train_test_split(X, y, test_size=0.30,random_state=531)\n",
    "# Train Gradient Boosting model to minimize mean squared error\n",
    "nEst = 200\n",
    "depth = 7\n",
    "learnRate = 0.01\n",
    "subSamp = 0.5\n",
    "consGBModel = ensemble.GradientBoostingRegressor(n_estimators=nEst,\n",
    "                                                  max_depth=depth,\n",
    "                                                  learning_rate=learnRate,\n",
    "                                                  subsample = subSamp,\n",
    "                                                  loss='ls')\n",
    "\n",
    "consGBModel.fit(xTrain, yTrain)\n",
    "\n",
    "# compute mse on test set\n",
    "msError = []\n",
    "predictions = consGBModel.staged_predict(xTest)\n",
    "\n",
    "for p in predictions:\n",
    "    msError.append(mean_squared_error(yTest, p))\n",
    "\n",
    "print(\"MSE:\",min(msError) )"
   ]
  },
  {
   "cell_type": "code",
   "execution_count": null,
   "metadata": {},
   "outputs": [],
   "source": []
  },
  {
   "cell_type": "code",
   "execution_count": null,
   "metadata": {},
   "outputs": [],
   "source": []
  },
  {
   "cell_type": "code",
   "execution_count": null,
   "metadata": {},
   "outputs": [],
   "source": []
  },
  {
   "cell_type": "code",
   "execution_count": null,
   "metadata": {},
   "outputs": [],
   "source": []
  },
  {
   "cell_type": "code",
   "execution_count": null,
   "metadata": {},
   "outputs": [],
   "source": []
  },
  {
   "cell_type": "code",
   "execution_count": null,
   "metadata": {},
   "outputs": [],
   "source": []
  },
  {
   "cell_type": "markdown",
   "metadata": {},
   "source": [
    "### <font color='green'>Some Interactive Plotting using Bokeh </font>\n",
    "Scroll the year bar at the output below the plot to change year\n",
    "\n",
    "\n",
    "X-axis is the value of the estimated project cost and Y-axis shows the number of stories\n",
    "The size of bubble shows the total sqft area. So the bigger the area the more will be the bubble.\n",
    "THe color shows the type of fire resistance level.\n",
    "\n",
    "Although this is still in development and right now I cannot infer much about the plot.\n",
    "It has to be fine tuned by understanding different attributes in the dataset and then even more sensible plot can be drawn\n",
    "#### The year bar below the plot can be changed to view different cost values in each year\n"
   ]
  },
  {
   "cell_type": "code",
   "execution_count": null,
   "metadata": {},
   "outputs": [],
   "source": [
    "data = pd.read_csv('Building_Permits.csv', low_memory=False)"
   ]
  },
  {
   "cell_type": "code",
   "execution_count": 58,
   "metadata": {},
   "outputs": [
    {
     "name": "stderr",
     "output_type": "stream",
     "text": [
      "BokehUserWarning: ColumnDataSource's columns must be of the same length. Current lengths: ('roman_letter', 15), ('statuscurrentmapped', 20), ('totalsqft', 15), ('workclass', 15), ('x', 15), ('y', 15)\n"
     ]
    },
    {
     "data": {
      "text/html": [
       "\n",
       "\n",
       "\n",
       "\n",
       "\n",
       "\n",
       "  <div class=\"bk-root\" id=\"fc4f3357-ef2c-4aa2-83dc-d686602add50\" data-root-id=\"1006\"></div>\n"
      ]
     },
     "metadata": {},
     "output_type": "display_data"
    },
    {
     "data": {
      "application/javascript": [
       "(function(root) {\n",
       "  function embed_document(root) {\n",
       "    \n",
       "  var docs_json = {\"037db4ec-8991-487c-8011-fe7398e6321b\":{\"roots\":{\"references\":[{\"attributes\":{\"below\":[{\"id\":\"1017\",\"type\":\"LogAxis\"}],\"center\":[{\"id\":\"1021\",\"type\":\"Grid\"},{\"id\":\"1026\",\"type\":\"Grid\"},{\"id\":\"1039\",\"type\":\"Legend\"}],\"left\":[{\"id\":\"1022\",\"type\":\"LinearAxis\"}],\"plot_height\":300,\"renderers\":[{\"id\":\"1032\",\"type\":\"GlyphRenderer\"}],\"right\":[{\"id\":\"1039\",\"type\":\"Legend\"}],\"title\":{\"id\":\"1007\",\"type\":\"Title\"},\"toolbar\":{\"id\":\"1027\",\"type\":\"Toolbar\"},\"toolbar_location\":\"above\",\"x_range\":{\"id\":\"1009\",\"type\":\"Range1d\"},\"x_scale\":{\"id\":\"1013\",\"type\":\"LogScale\"},\"y_range\":{\"id\":\"1011\",\"type\":\"Range1d\"},\"y_scale\":{\"id\":\"1015\",\"type\":\"LinearScale\"}},\"id\":\"1006\",\"subtype\":\"Figure\",\"type\":\"Plot\"},{\"attributes\":{\"active_drag\":\"auto\",\"active_inspect\":\"auto\",\"active_multi\":null,\"active_scroll\":\"auto\",\"active_tap\":\"auto\",\"tools\":[{\"id\":\"1005\",\"type\":\"HoverTool\"}]},\"id\":\"1027\",\"type\":\"Toolbar\"},{\"attributes\":{\"fill_alpha\":{\"value\":0.6},\"fill_color\":{\"field\":\"roman_letter\",\"transform\":{\"id\":\"1004\",\"type\":\"CategoricalColorMapper\"}},\"line_alpha\":{\"value\":0.6},\"line_color\":{\"field\":\"roman_letter\",\"transform\":{\"id\":\"1004\",\"type\":\"CategoricalColorMapper\"}},\"size\":{\"field\":\"totalsqft\",\"transform\":{\"id\":\"1002\",\"type\":\"LinearInterpolator\"},\"units\":\"screen\"},\"x\":{\"field\":\"x\"},\"y\":{\"field\":\"y\"}},\"id\":\"1030\",\"type\":\"Circle\"},{\"attributes\":{\"callback\":null,\"end\":400000,\"start\":1000},\"id\":\"1009\",\"type\":\"Range1d\"},{\"attributes\":{\"data_source\":{\"id\":\"1003\",\"type\":\"ColumnDataSource\"},\"glyph\":{\"id\":\"1030\",\"type\":\"Circle\"},\"hover_glyph\":null,\"muted_glyph\":null,\"nonselection_glyph\":{\"id\":\"1031\",\"type\":\"Circle\"},\"selection_glyph\":null,\"view\":{\"id\":\"1033\",\"type\":\"CDSView\"}},\"id\":\"1032\",\"type\":\"GlyphRenderer\"},{\"attributes\":{\"text\":\"Number of stories vs Estimated cost\"},\"id\":\"1007\",\"type\":\"Title\"},{\"attributes\":{\"fill_alpha\":{\"value\":0.1},\"fill_color\":{\"value\":\"#1f77b4\"},\"line_alpha\":{\"value\":0.1},\"line_color\":{\"value\":\"#1f77b4\"},\"size\":{\"field\":\"totalsqft\",\"transform\":{\"id\":\"1002\",\"type\":\"LinearInterpolator\"},\"units\":\"screen\"},\"x\":{\"field\":\"x\"},\"y\":{\"field\":\"y\"}},\"id\":\"1031\",\"type\":\"Circle\"},{\"attributes\":{\"source\":{\"id\":\"1003\",\"type\":\"ColumnDataSource\"}},\"id\":\"1033\",\"type\":\"CDSView\"},{\"attributes\":{},\"id\":\"1036\",\"type\":\"BasicTickFormatter\"},{\"attributes\":{\"data\":null,\"x\":[0.0,2860.0],\"y\":[5,50]},\"id\":\"1002\",\"type\":\"LinearInterpolator\"},{\"attributes\":{\"items\":[{\"id\":\"1040\",\"type\":\"LegendItem\"}],\"title\":\"Fire resistance level\"},\"id\":\"1039\",\"type\":\"Legend\"},{\"attributes\":{\"label\":{\"field\":\"roman_letter\"},\"renderers\":[{\"id\":\"1032\",\"type\":\"GlyphRenderer\"}]},\"id\":\"1040\",\"type\":\"LegendItem\"},{\"attributes\":{\"callback\":null,\"show_arrow\":false,\"tooltips\":[[\"Fire_safety_level\",\"@roman_letter\"],[\"statuscurrentmapped\",\"@statuscurrentmapped\"],[\"contractorstate\",\"@contractorstate\"],[\"estprojectcost\",\"@x\"],[\"totalsqft\",\"@totalsqft\"],[\"numberstories\",\"@y\"],[\"workclass\",\"@workclass\"]]},\"id\":\"1005\",\"type\":\"HoverTool\"},{\"attributes\":{\"format\":\"0$,\"},\"id\":\"1041\",\"type\":\"NumeralTickFormatter\"},{\"attributes\":{},\"id\":\"1013\",\"type\":\"LogScale\"},{\"attributes\":{\"factors\":[\"I\",\"III\",\"IV\",\"V\",\"VI\",\"II\"],\"palette\":[\"#3288bd\",\"#99d594\",\"#e6f598\",\"#fee08b\",\"#fc8d59\",\"#d53e4f\"]},\"id\":\"1004\",\"type\":\"CategoricalColorMapper\"},{\"attributes\":{\"callback\":null,\"end\":5},\"id\":\"1011\",\"type\":\"Range1d\"},{\"attributes\":{},\"id\":\"1047\",\"type\":\"UnionRenderers\"},{\"attributes\":{},\"id\":\"1048\",\"type\":\"Selection\"},{\"attributes\":{},\"id\":\"1015\",\"type\":\"LinearScale\"},{\"attributes\":{\"formatter\":{\"id\":\"1041\",\"type\":\"NumeralTickFormatter\"},\"ticker\":{\"id\":\"1018\",\"type\":\"LogTicker\"}},\"id\":\"1017\",\"type\":\"LogAxis\"},{\"attributes\":{\"num_minor_ticks\":10},\"id\":\"1018\",\"type\":\"LogTicker\"},{\"attributes\":{\"callback\":null,\"data\":{\"roman_letter\":[\"I\",\"I\",\"II\",\"II\",\"II\",\"II\",\"II\",\"II\",\"II\",\"III\",\"III\",\"III\",\"IV\",\"IV\",\"V\"],\"statuscurrentmapped\":[\"Occupancy\",\"Permit Cancelled\",\"Permit Cancelled\",\"Permit Cancelled\",\"Permit Issued\",\"Permit Issued\",\"Permit Issued\",\"Permit Issued\",\"Occupancy\",\"Permit Cancelled\",\"Permit Issued\",\"Permit Issued\",\"Permit Issued\",\"Occupancy\",\"Occupancy\",\"Permit Cancelled\",\"Permit Cancelled\",\"Permit Cancelled\",\"Permit Issued\",\"Occupancy\"],\"totalsqft\":{\"__ndarray__\":\"AAAAAADAYkAAAAAAAAA0QAAAAAAAAAAAAAAAAABwhUAAAAAAAAAAAAAAAAAAmIZAAAAAAACAiUAAAAAAAACPQAAAAAAAkJpAAAAAAAAAAAAAAAAAAFCkQAAAAAAAAElAAAAAAAAgckAAAAAAAAAAAAAAAAAAAAAA\",\"dtype\":\"float64\",\"shape\":[15]},\"workclass\":[\"Foundation Only\",\"Other\",\"Demolish\",\"Alterations To A Shell - No C O\",\"Demolish\",\"Interior Completion\",\"Other\",\"Alterations To A Shell - No C O\",\"Interior Completion\",\"Demolish\",\"Addition\",\"Other\",\"Alterations To A Shell - No C O\",\"Demolish\",\"Demolish\"],\"x\":{\"__ndarray__\":\"AAAAAIBPEkEAAAAAAMCSQAAAAAAAzfRAAAAAAGCM40AAAAAAABfhQAAAAAAAWNtAAAAAAIBb8EAAAAAAYE4KQQAAAAAQOvJAAAAAAABq6EAAAAAA4P0cQQAAAADAXOVAAAAAAABq2EAAAAAAAIjjQAAAAAAATN1A\",\"dtype\":\"float64\",\"shape\":[15]},\"y\":{\"__ndarray__\":\"AAAAAAAACEAAAAAAAAAAQAAAAAAAAAhAAAAAAAAAAEAAAAAAAADwPwAAAAAAAABAAAAAAAAA8D8AAAAAAADwPwAAAAAAAABAAAAAAAAACEAAAAAAAADwPwAAAAAAAPA/AAAAAAAAAEAAAAAAAAAAQAAAAAAAAAhA\",\"dtype\":\"float64\",\"shape\":[15]}},\"selected\":{\"id\":\"1048\",\"type\":\"Selection\"},\"selection_policy\":{\"id\":\"1047\",\"type\":\"UnionRenderers\"}},\"id\":\"1003\",\"type\":\"ColumnDataSource\"},{\"attributes\":{\"ticker\":{\"id\":\"1018\",\"type\":\"LogTicker\"}},\"id\":\"1021\",\"type\":\"Grid\"},{\"attributes\":{\"formatter\":{\"id\":\"1036\",\"type\":\"BasicTickFormatter\"},\"ticker\":{\"id\":\"1023\",\"type\":\"BasicTicker\"}},\"id\":\"1022\",\"type\":\"LinearAxis\"},{\"attributes\":{},\"id\":\"1023\",\"type\":\"BasicTicker\"},{\"attributes\":{\"dimension\":1,\"ticker\":{\"id\":\"1023\",\"type\":\"BasicTicker\"}},\"id\":\"1026\",\"type\":\"Grid\"}],\"root_ids\":[\"1006\"]},\"title\":\"Bokeh Application\",\"version\":\"1.3.4\"}};\n",
       "  var render_items = [{\"docid\":\"037db4ec-8991-487c-8011-fe7398e6321b\",\"notebook_comms_target\":\"1049\",\"roots\":{\"1006\":\"fc4f3357-ef2c-4aa2-83dc-d686602add50\"}}];\n",
       "  root.Bokeh.embed.embed_items_notebook(docs_json, render_items);\n",
       "\n",
       "  }\n",
       "  if (root.Bokeh !== undefined) {\n",
       "    embed_document(root);\n",
       "  } else {\n",
       "    var attempts = 0;\n",
       "    var timer = setInterval(function(root) {\n",
       "      if (root.Bokeh !== undefined) {\n",
       "        embed_document(root);\n",
       "        clearInterval(timer);\n",
       "      }\n",
       "      attempts++;\n",
       "      if (attempts > 100) {\n",
       "        console.log(\"Bokeh: ERROR: Unable to run BokehJS code because BokehJS library is missing\");\n",
       "        clearInterval(timer);\n",
       "      }\n",
       "    }, 10, root)\n",
       "  }\n",
       "})(window);"
      ],
      "application/vnd.bokehjs_exec.v0+json": ""
     },
     "metadata": {
      "application/vnd.bokehjs_exec.v0+json": {
       "id": "1006"
      }
     },
     "output_type": "display_data"
    },
    {
     "data": {
      "application/vnd.jupyter.widget-view+json": {
       "model_id": "24e0254c294b46a8b778a39f50d09e68",
       "version_major": 2,
       "version_minor": 0
      },
      "text/plain": [
       "interactive(children=(IntSlider(value=2009, description='year', max=2018, min=2000), Output()), _dom_classes=(…"
      ]
     },
     "metadata": {},
     "output_type": "display_data"
    },
    {
     "data": {
      "text/plain": [
       "<function __main__.update(year)>"
      ]
     },
     "execution_count": 58,
     "metadata": {},
     "output_type": "execute_result"
    }
   ],
   "source": [
    "data = backup_data\n",
    "data = data[[\"issueddate_yr\",\"estprojectcost\",\"statuscurrent\",\"totalsqft\",\"statuscurrentmapped\", \"workclass\",\n",
    "                 \"numberstories\",\"const_type\",\"proposeduse\",\"occupancyclass\",\n",
    "            \"countylocation\"]]\n",
    "\n",
    "data = data[np.isfinite(data['issueddate_yr'])]\n",
    "data.set_index(\"issueddate_yr\",inplace=True)\n",
    "\n",
    "data = data[(data.numberstories < 32) | (data.estprojectcost < 40000)]\n",
    "data = data.dropna()\n",
    "data['roman_letter'] = data['const_type'].str.split(' ').str[0]\n",
    "\n",
    "j = []\n",
    "for i in data.roman_letter:\n",
    "    if (len(i)>3):\n",
    "        j.append(i[0:3])\n",
    "    else:\n",
    "        j.append(i)\n",
    "        \n",
    "data['roman_letter'] = j\n",
    "data[\"year\"] = data.index\n",
    "\n",
    "sum_df = data.groupby(['year','roman_letter','statuscurrentmapped',\"workclass\"]).agg({'estprojectcost': 'sum',\n",
    "                                                                                           'totalsqft': 'sum','numberstories':'sum'})\n",
    "sum_df = sum_df.reset_index()\n",
    "sum_df.set_index(\"year\", inplace=True,drop=True)\n",
    "sum_df['totalsqft'] = sum_df.totalsqft\n",
    "sum_df = sum_df[(sum_df.totalsqft < 2893) & (sum_df.numberstories < 4)]\n",
    "data = sum_df\n",
    "\n",
    "\n",
    "size_mapper = LinearInterpolator(x=[data.totalsqft.min(), data.totalsqft.max()], y = [5,50])\n",
    "\n",
    "source = ColumnDataSource(dict(\n",
    "    x= data.loc[2012].estprojectcost,  \n",
    "    y= data.loc[2012].numberstories,   \n",
    "    totalsqft = data.loc[2012].totalsqft,\n",
    "    statuscurrentmapped = data.loc[2010].statuscurrentmapped,\n",
    "    roman_letter = data.loc[2012].roman_letter,\n",
    "#     contractorstate = data.loc[2012].contractorstate,\n",
    "    workclass =  data.loc[2012].workclass,\n",
    "    ))\n",
    "\n",
    "def update (year):\n",
    "    new_data = dict(\n",
    "        x= data.loc[year].estprojectcost,\n",
    "        y=data.loc[year].numberstories,\n",
    "        totalsqft = data.loc[year].totalsqft,\n",
    "        statuscurrentmapped = data.loc[year].statuscurrentmapped,\n",
    "        roman_letter = data.loc[year].roman_letter,\n",
    "#         contractorstate = data.loc[year].contractorstate,\n",
    "        workclass = data.loc[year].workclass\n",
    "    )\n",
    "    source.data = new_data \n",
    "    p.title.text = str(year) \n",
    "    push_notebook()\n",
    "\n",
    "\n",
    "\n",
    "color_mapper = CategoricalColorMapper(\n",
    "   factors = list(data.roman_letter.unique()),  \n",
    "  palette = Spectral6)\n",
    "\n",
    "\n",
    "hover = HoverTool(tooltips = [(\"Fire_safety_level\",\"@roman_letter\"),\n",
    "                              (\"statuscurrentmapped\", \"@statuscurrentmapped\"),\n",
    "                              (\"contractorstate\",\"@contractorstate\"),\n",
    "                              (\"estprojectcost\", \"@x\"),\n",
    "                              (\"totalsqft\", \"@totalsqft\"),\n",
    "                              (\"numberstories\", \"@y\"), \n",
    "                              (\"workclass\",\"@workclass\"),],\n",
    "                  show_arrow=False)\n",
    "PLOT_OPTS = dict(\n",
    "    height =300, \n",
    "    x_axis_type='log',\n",
    "    x_range=(1000,400000),\n",
    "    y_range=[0, 5])\n",
    "\n",
    "\n",
    "p = figure(title = str('Number of stories vs Estimated cost'),toolbar_location='above', \n",
    "    title_location = 'above',\n",
    "    tools=[hover],\n",
    "    **PLOT_OPTS)\n",
    "p.circle(\n",
    "    x='x',y='y', \n",
    "    size={'field':'totalsqft', 'transform': size_mapper},  \n",
    "    color = {'field':'roman_letter','transform':color_mapper}, \n",
    "    legend='roman_letter',\n",
    "    source=source,  \n",
    "    alpha=0.6) \n",
    "\n",
    "p.legend.title = 'Fire resistance level'\n",
    "p.xaxis[0].formatter = NumeralTickFormatter(format='0$,')\n",
    "p.right.append(p.legend[0]) \n",
    "show(p, notebook_handle=True) \n",
    "interact(update, year=(2000,2018,1))"
   ]
  },
  {
   "cell_type": "code",
   "execution_count": null,
   "metadata": {},
   "outputs": [],
   "source": []
  },
  {
   "cell_type": "code",
   "execution_count": null,
   "metadata": {},
   "outputs": [],
   "source": []
  }
 ],
 "metadata": {
  "kernelspec": {
   "display_name": "Python 3",
   "language": "python",
   "name": "python3"
  },
  "language_info": {
   "codemirror_mode": {
    "name": "ipython",
    "version": 3
   },
   "file_extension": ".py",
   "mimetype": "text/x-python",
   "name": "python",
   "nbconvert_exporter": "python",
   "pygments_lexer": "ipython3",
   "version": "3.7.3"
  }
 },
 "nbformat": 4,
 "nbformat_minor": 2
}
